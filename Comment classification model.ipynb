{
 "cells": [
  {
   "cell_type": "markdown",
   "metadata": {
    "toc": true
   },
   "source": [
    "<h1>Содержание<span class=\"tocSkip\"></span></h1>\n",
    "<div class=\"toc\"><ul class=\"toc-item\"><li><span><a href=\"#Подготовка\" data-toc-modified-id=\"Подготовка-1\"><span class=\"toc-item-num\">1&nbsp;&nbsp;</span>Подготовка</a></span><ul class=\"toc-item\"><li><span><a href=\"#Импортируем-необходимые-библиотеки:\" data-toc-modified-id=\"Импортируем-необходимые-библиотеки:-1.1\"><span class=\"toc-item-num\">1.1&nbsp;&nbsp;</span>Импортируем необходимые библиотеки:</a></span></li><li><span><a href=\"#Загрузка-данные-и-проведение-первичного-осмотра,-обработки-и-анализа\" data-toc-modified-id=\"Загрузка-данные-и-проведение-первичного-осмотра,-обработки-и-анализа-1.2\"><span class=\"toc-item-num\">1.2&nbsp;&nbsp;</span>Загрузка данные и проведение первичного осмотра, обработки и анализа</a></span></li><li><span><a href=\"#Распределение-целевого-признака\" data-toc-modified-id=\"Распределение-целевого-признака-1.3\"><span class=\"toc-item-num\">1.3&nbsp;&nbsp;</span>Распределение целевого признака</a></span></li><li><span><a href=\"#Борьба-с-дисбалансом-классов\" data-toc-modified-id=\"Борьба-с-дисбалансом-классов-1.4\"><span class=\"toc-item-num\">1.4&nbsp;&nbsp;</span>Борьба с дисбалансом классов</a></span></li><li><span><a href=\"#Вывод:\" data-toc-modified-id=\"Вывод:-1.5\"><span class=\"toc-item-num\">1.5&nbsp;&nbsp;</span>Вывод:</a></span></li></ul></li><li><span><a href=\"#Обучение\" data-toc-modified-id=\"Обучение-2\"><span class=\"toc-item-num\">2&nbsp;&nbsp;</span>Обучение</a></span><ul class=\"toc-item\"><li><span><a href=\"#Разделение-данных-и-векторизация-текста\" data-toc-modified-id=\"Разделение-данных-и-векторизация-текста-2.1\"><span class=\"toc-item-num\">2.1&nbsp;&nbsp;</span>Разделение данных и векторизация текста</a></span></li><li><span><a href=\"#Обучение-и-оценка-моделей\" data-toc-modified-id=\"Обучение-и-оценка-моделей-2.2\"><span class=\"toc-item-num\">2.2&nbsp;&nbsp;</span>Обучение и оценка моделей</a></span></li><li><span><a href=\"#Получение-результирующей-таблицы\" data-toc-modified-id=\"Получение-результирующей-таблицы-2.3\"><span class=\"toc-item-num\">2.3&nbsp;&nbsp;</span>Получение результирующей таблицы</a></span></li><li><span><a href=\"#Вывод:\" data-toc-modified-id=\"Вывод:-2.4\"><span class=\"toc-item-num\">2.4&nbsp;&nbsp;</span>Вывод:</a></span></li></ul></li><li><span><a href=\"#Тестирование-лучшей-модели\" data-toc-modified-id=\"Тестирование-лучшей-модели-3\"><span class=\"toc-item-num\">3&nbsp;&nbsp;</span>Тестирование лучшей модели</a></span><ul class=\"toc-item\"><li><span><a href=\"#Вывод:\" data-toc-modified-id=\"Вывод:-3.1\"><span class=\"toc-item-num\">3.1&nbsp;&nbsp;</span>Вывод:</a></span></li></ul></li><li><span><a href=\"#Выводы\" data-toc-modified-id=\"Выводы-4\"><span class=\"toc-item-num\">4&nbsp;&nbsp;</span>Выводы</a></span></li><li><span><a href=\"#Чек-лист-проверки\" data-toc-modified-id=\"Чек-лист-проверки-5\"><span class=\"toc-item-num\">5&nbsp;&nbsp;</span>Чек-лист проверки</a></span></li></ul></div>"
   ]
  },
  {
   "cell_type": "markdown",
   "metadata": {},
   "source": [
    "# Проект для «Викишоп»"
   ]
  },
  {
   "cell_type": "markdown",
   "metadata": {},
   "source": [
    "Интернет-магазин «Викишоп» запускает новый сервис. Теперь пользователи могут редактировать и дополнять описания товаров, как в вики-сообществах. То есть клиенты предлагают свои правки и комментируют изменения других. Магазину нужен инструмент, который будет искать токсичные комментарии и отправлять их на модерацию. \n",
    "\n",
    "Необходимо обучить модель классифицировать комментарии на позитивные и негативные. В нашем распоряжении набор данных с разметкой о токсичности правок.\n",
    "\n",
    "Построим модель со значением метрики качества *F1* не меньше 0.75. \n",
    "\n",
    "**Инструкция по выполнению проекта**\n",
    "\n",
    "1. Загрузим и подготовим данные.\n",
    "2. Обучим разные модели. \n",
    "3. Сделаем выводы.\n",
    "\n",
    "Для выполнения проекта применять *BERT* необязательно.\n",
    "\n",
    "**Описание данных**\n",
    "\n",
    "Данные находятся в файле `toxic_comments.csv`. Столбец *text* в нём содержит текст комментария, а *toxic* — целевой признак."
   ]
  },
  {
   "cell_type": "markdown",
   "metadata": {},
   "source": [
    "## Подготовка"
   ]
  },
  {
   "cell_type": "markdown",
   "metadata": {},
   "source": [
    "### Импортируем необходимые библиотеки:"
   ]
  },
  {
   "cell_type": "code",
   "execution_count": 1,
   "metadata": {},
   "outputs": [
    {
     "name": "stdout",
     "output_type": "stream",
     "text": [
      "Requirement already satisfied: wordcloud in /opt/conda/lib/python3.9/site-packages (1.9.3)\r\n",
      "Requirement already satisfied: pillow in /opt/conda/lib/python3.9/site-packages (from wordcloud) (8.4.0)\r\n",
      "Requirement already satisfied: matplotlib in /opt/conda/lib/python3.9/site-packages (from wordcloud) (3.3.4)\r\n",
      "Requirement already satisfied: numpy>=1.6.1 in /opt/conda/lib/python3.9/site-packages (from wordcloud) (1.21.1)\r\n",
      "Requirement already satisfied: cycler>=0.10 in /opt/conda/lib/python3.9/site-packages (from matplotlib->wordcloud) (0.11.0)\r\n",
      "Requirement already satisfied: pyparsing!=2.0.4,!=2.1.2,!=2.1.6,>=2.0.3 in /opt/conda/lib/python3.9/site-packages (from matplotlib->wordcloud) (2.4.7)\r\n",
      "Requirement already satisfied: python-dateutil>=2.1 in /opt/conda/lib/python3.9/site-packages (from matplotlib->wordcloud) (2.8.1)\r\n",
      "Requirement already satisfied: kiwisolver>=1.0.1 in /opt/conda/lib/python3.9/site-packages (from matplotlib->wordcloud) (1.4.4)\r\n",
      "Requirement already satisfied: six>=1.5 in /opt/conda/lib/python3.9/site-packages (from python-dateutil>=2.1->matplotlib->wordcloud) (1.16.0)\r\n"
     ]
    }
   ],
   "source": [
    "!/opt/conda/bin/python -m pip install wordcloud "
   ]
  },
  {
   "cell_type": "code",
   "execution_count": 2,
   "metadata": {},
   "outputs": [
    {
     "name": "stdout",
     "output_type": "stream",
     "text": [
      "/bin/bash: -c: line 0: syntax error near unexpected token `('\r\n",
      "/bin/bash: -c: line 0: `pip install --upgrade Pillow  (попробуй версию 9.5.0)'\r\n"
     ]
    }
   ],
   "source": [
    "!pip install --upgrade Pillow  (попробуй версию 9.5.0)"
   ]
  },
  {
   "cell_type": "code",
   "execution_count": 3,
   "metadata": {},
   "outputs": [
    {
     "name": "stdout",
     "output_type": "stream",
     "text": [
      "Requirement already satisfied: imblearn in /opt/conda/lib/python3.9/site-packages (0.0)\n",
      "Requirement already satisfied: imbalanced-learn in /opt/conda/lib/python3.9/site-packages (from imblearn) (0.12.3)\n",
      "Requirement already satisfied: scikit-learn>=1.0.2 in /opt/conda/lib/python3.9/site-packages (from imbalanced-learn->imblearn) (1.5.1)\n",
      "Requirement already satisfied: scipy>=1.5.0 in /opt/conda/lib/python3.9/site-packages (from imbalanced-learn->imblearn) (1.9.1)\n",
      "Requirement already satisfied: threadpoolctl>=2.0.0 in /opt/conda/lib/python3.9/site-packages (from imbalanced-learn->imblearn) (3.1.0)\n",
      "Requirement already satisfied: joblib>=1.1.1 in /opt/conda/lib/python3.9/site-packages (from imbalanced-learn->imblearn) (1.4.2)\n",
      "Requirement already satisfied: numpy>=1.17.3 in /opt/conda/lib/python3.9/site-packages (from imbalanced-learn->imblearn) (1.21.1)\n",
      "Note: you may need to restart the kernel to use updated packages.\n"
     ]
    }
   ],
   "source": [
    "pip install imblearn"
   ]
  },
  {
   "cell_type": "code",
   "execution_count": 4,
   "metadata": {},
   "outputs": [
    {
     "name": "stdout",
     "output_type": "stream",
     "text": [
      "Requirement already satisfied: pytagcloud in /opt/conda/lib/python3.9/site-packages (0.3.5)\n",
      "Requirement already satisfied: pygame in /opt/conda/lib/python3.9/site-packages (2.6.0)\n",
      "Note: you may need to restart the kernel to use updated packages.\n"
     ]
    }
   ],
   "source": [
    "pip install pytagcloud pygame"
   ]
  },
  {
   "cell_type": "code",
   "execution_count": 5,
   "metadata": {},
   "outputs": [
    {
     "name": "stdout",
     "output_type": "stream",
     "text": [
      "Requirement already satisfied: simplejson in /opt/conda/lib/python3.9/site-packages (3.19.2)\n",
      "Note: you may need to restart the kernel to use updated packages.\n"
     ]
    }
   ],
   "source": [
    "pip install simplejson"
   ]
  },
  {
   "cell_type": "code",
   "execution_count": 6,
   "metadata": {},
   "outputs": [
    {
     "name": "stdout",
     "output_type": "stream",
     "text": [
      "pygame 2.6.0 (SDL 2.28.4, Python 3.9.5)\n",
      "Hello from the pygame community. https://www.pygame.org/contribute.html\n"
     ]
    }
   ],
   "source": [
    "import numpy as np\n",
    "import pandas as pd\n",
    "import re\n",
    "import spacy\n",
    "from collections import Counter\n",
    "import random\n",
    "from pytagcloud import create_tag_image, make_tags\n",
    "from sklearn.pipeline import Pipeline\n",
    "from imblearn.pipeline import Pipeline as ImbPipeline\n",
    "from imblearn.under_sampling import RandomUnderSampler\n",
    "from imblearn.over_sampling import SMOTE\n",
    "import nltk\n",
    "from nltk.stem import WordNetLemmatizer\n",
    "from nltk.corpus import stopwords\n",
    "from wordcloud import WordCloud\n",
    "from sklearn.feature_extraction.text import TfidfVectorizer\n",
    "from sklearn.model_selection import train_test_split, cross_val_score, GridSearchCV, RandomizedSearchCV\n",
    "from sklearn.linear_model import LogisticRegression, SGDClassifier\n",
    "from sklearn.tree import DecisionTreeClassifier\n",
    "from catboost import CatBoostClassifier\n",
    "from sklearn.ensemble import RandomForestClassifier\n",
    "from lightgbm import LGBMClassifier\n",
    "from tqdm import tqdm\n",
    "from sklearn.metrics import f1_score, precision_score, recall_score, accuracy_score, roc_auc_score, roc_curve\n",
    "from sklearn.utils import shuffle\n",
    "import matplotlib.pyplot as plt\n",
    "import seaborn as sns\n",
    "import warnings\n",
    "warnings.filterwarnings('ignore')\n",
    "import logging"
   ]
  },
  {
   "cell_type": "markdown",
   "metadata": {},
   "source": [
    "### Загрузка данные и проведение первичного осмотра, обработки и анализа"
   ]
  },
  {
   "cell_type": "code",
   "execution_count": 7,
   "metadata": {},
   "outputs": [],
   "source": [
    "data = pd.read_csv('/datasets/toxic_comments.csv')"
   ]
  },
  {
   "cell_type": "code",
   "execution_count": 8,
   "metadata": {},
   "outputs": [
    {
     "name": "stdout",
     "output_type": "stream",
     "text": [
      "<class 'pandas.core.frame.DataFrame'>\n",
      "RangeIndex: 159292 entries, 0 to 159291\n",
      "Data columns (total 3 columns):\n",
      " #   Column      Non-Null Count   Dtype \n",
      "---  ------      --------------   ----- \n",
      " 0   Unnamed: 0  159292 non-null  int64 \n",
      " 1   text        159292 non-null  object\n",
      " 2   toxic       159292 non-null  int64 \n",
      "dtypes: int64(2), object(1)\n",
      "memory usage: 3.6+ MB\n"
     ]
    }
   ],
   "source": [
    "data.info()"
   ]
  },
  {
   "cell_type": "code",
   "execution_count": 9,
   "metadata": {},
   "outputs": [
    {
     "data": {
      "text/html": [
       "<div>\n",
       "<style scoped>\n",
       "    .dataframe tbody tr th:only-of-type {\n",
       "        vertical-align: middle;\n",
       "    }\n",
       "\n",
       "    .dataframe tbody tr th {\n",
       "        vertical-align: top;\n",
       "    }\n",
       "\n",
       "    .dataframe thead th {\n",
       "        text-align: right;\n",
       "    }\n",
       "</style>\n",
       "<table border=\"1\" class=\"dataframe\">\n",
       "  <thead>\n",
       "    <tr style=\"text-align: right;\">\n",
       "      <th></th>\n",
       "      <th>Unnamed: 0</th>\n",
       "      <th>text</th>\n",
       "      <th>toxic</th>\n",
       "    </tr>\n",
       "  </thead>\n",
       "  <tbody>\n",
       "    <tr>\n",
       "      <th>0</th>\n",
       "      <td>0</td>\n",
       "      <td>Explanation\\nWhy the edits made under my usern...</td>\n",
       "      <td>0</td>\n",
       "    </tr>\n",
       "    <tr>\n",
       "      <th>1</th>\n",
       "      <td>1</td>\n",
       "      <td>D'aww! He matches this background colour I'm s...</td>\n",
       "      <td>0</td>\n",
       "    </tr>\n",
       "    <tr>\n",
       "      <th>2</th>\n",
       "      <td>2</td>\n",
       "      <td>Hey man, I'm really not trying to edit war. It...</td>\n",
       "      <td>0</td>\n",
       "    </tr>\n",
       "    <tr>\n",
       "      <th>3</th>\n",
       "      <td>3</td>\n",
       "      <td>\"\\nMore\\nI can't make any real suggestions on ...</td>\n",
       "      <td>0</td>\n",
       "    </tr>\n",
       "    <tr>\n",
       "      <th>4</th>\n",
       "      <td>4</td>\n",
       "      <td>You, sir, are my hero. Any chance you remember...</td>\n",
       "      <td>0</td>\n",
       "    </tr>\n",
       "  </tbody>\n",
       "</table>\n",
       "</div>"
      ],
      "text/plain": [
       "   Unnamed: 0                                               text  toxic\n",
       "0           0  Explanation\\nWhy the edits made under my usern...      0\n",
       "1           1  D'aww! He matches this background colour I'm s...      0\n",
       "2           2  Hey man, I'm really not trying to edit war. It...      0\n",
       "3           3  \"\\nMore\\nI can't make any real suggestions on ...      0\n",
       "4           4  You, sir, are my hero. Any chance you remember...      0"
      ]
     },
     "execution_count": 9,
     "metadata": {},
     "output_type": "execute_result"
    }
   ],
   "source": [
    "data.head()"
   ]
  },
  {
   "cell_type": "markdown",
   "metadata": {},
   "source": [
    "**Избавимся от столбца Unnamed: 0, так как:**\n",
    "- Он не является частью данных: этот столбец  содержит дублирующую информацию об индексах строк, которые уже присутствуют в DataFrame.\n",
    "- Засорение данных: Лишний столбец усложняет анализ данных и делает DataFrame менее удобным для работы.\n",
    "- Потенциальные ошибки: Ненужный столбец может привести к путанице или ошибкам при анализе данных."
   ]
  },
  {
   "cell_type": "code",
   "execution_count": 10,
   "metadata": {},
   "outputs": [
    {
     "data": {
      "text/html": [
       "<div>\n",
       "<style scoped>\n",
       "    .dataframe tbody tr th:only-of-type {\n",
       "        vertical-align: middle;\n",
       "    }\n",
       "\n",
       "    .dataframe tbody tr th {\n",
       "        vertical-align: top;\n",
       "    }\n",
       "\n",
       "    .dataframe thead th {\n",
       "        text-align: right;\n",
       "    }\n",
       "</style>\n",
       "<table border=\"1\" class=\"dataframe\">\n",
       "  <thead>\n",
       "    <tr style=\"text-align: right;\">\n",
       "      <th></th>\n",
       "      <th>text</th>\n",
       "      <th>toxic</th>\n",
       "    </tr>\n",
       "  </thead>\n",
       "  <tbody>\n",
       "    <tr>\n",
       "      <th>0</th>\n",
       "      <td>Explanation\\nWhy the edits made under my usern...</td>\n",
       "      <td>0</td>\n",
       "    </tr>\n",
       "    <tr>\n",
       "      <th>1</th>\n",
       "      <td>D'aww! He matches this background colour I'm s...</td>\n",
       "      <td>0</td>\n",
       "    </tr>\n",
       "    <tr>\n",
       "      <th>2</th>\n",
       "      <td>Hey man, I'm really not trying to edit war. It...</td>\n",
       "      <td>0</td>\n",
       "    </tr>\n",
       "    <tr>\n",
       "      <th>3</th>\n",
       "      <td>\"\\nMore\\nI can't make any real suggestions on ...</td>\n",
       "      <td>0</td>\n",
       "    </tr>\n",
       "    <tr>\n",
       "      <th>4</th>\n",
       "      <td>You, sir, are my hero. Any chance you remember...</td>\n",
       "      <td>0</td>\n",
       "    </tr>\n",
       "  </tbody>\n",
       "</table>\n",
       "</div>"
      ],
      "text/plain": [
       "                                                text  toxic\n",
       "0  Explanation\\nWhy the edits made under my usern...      0\n",
       "1  D'aww! He matches this background colour I'm s...      0\n",
       "2  Hey man, I'm really not trying to edit war. It...      0\n",
       "3  \"\\nMore\\nI can't make any real suggestions on ...      0\n",
       "4  You, sir, are my hero. Any chance you remember...      0"
      ]
     },
     "execution_count": 10,
     "metadata": {},
     "output_type": "execute_result"
    }
   ],
   "source": [
    "data.drop(columns='Unnamed: 0', inplace = True)\n",
    "data.head()"
   ]
  },
  {
   "cell_type": "markdown",
   "metadata": {},
   "source": [
    "**Текстовые данные часто содержат шум, который нужно удалить:**\n",
    "\n",
    "- Привести текст к нижнему регистру\n",
    "- Удалить пунктуации и специальные символы\n",
    "- Удалить стоп-слова \n",
    "- Выполнить лемматизацию (приведение слов к их базовой форме)"
   ]
  },
  {
   "cell_type": "code",
   "execution_count": 11,
   "metadata": {},
   "outputs": [],
   "source": [
    "# # Приведение текста к нижнему регистру и удаление спецсимволов\n",
    "# def preprocess_text(text):\n",
    "#     text = text.lower()\n",
    "#     text = re.sub(r'\\W', ' ', text)\n",
    "#     text = re.sub(r'\\s+', ' ', text)\n",
    "#     return text\n",
    "\n",
    "# data['clean_text'] = data['text'].apply(preprocess_text)\n",
    "\n",
    "# # Удаление стоп-слов и лемматизация\n",
    "# stop_words = set(stopwords.words('english'))\n",
    "# lemmatizer = WordNetLemmatizer()\n",
    "\n",
    "# def remove_stopwords_lemmatize(text):\n",
    "#     words = text.split()\n",
    "#     words = [lemmatizer.lemmatize(word) for word in words if word not in stop_words]\n",
    "#     return ' '.join(words)\n",
    "\n",
    "# data['clean_text'] = data['clean_text'].apply(remove_stopwords_lemmatize)\n",
    "\n",
    "# data.head()"
   ]
  },
  {
   "cell_type": "code",
   "execution_count": 12,
   "metadata": {},
   "outputs": [
    {
     "data": {
      "text/html": [
       "<div>\n",
       "<style scoped>\n",
       "    .dataframe tbody tr th:only-of-type {\n",
       "        vertical-align: middle;\n",
       "    }\n",
       "\n",
       "    .dataframe tbody tr th {\n",
       "        vertical-align: top;\n",
       "    }\n",
       "\n",
       "    .dataframe thead th {\n",
       "        text-align: right;\n",
       "    }\n",
       "</style>\n",
       "<table border=\"1\" class=\"dataframe\">\n",
       "  <thead>\n",
       "    <tr style=\"text-align: right;\">\n",
       "      <th></th>\n",
       "      <th>text</th>\n",
       "      <th>toxic</th>\n",
       "      <th>clean_text</th>\n",
       "    </tr>\n",
       "  </thead>\n",
       "  <tbody>\n",
       "    <tr>\n",
       "      <th>0</th>\n",
       "      <td>Explanation\\nWhy the edits made under my usern...</td>\n",
       "      <td>0</td>\n",
       "      <td>explanation edit username hardcore metallica f...</td>\n",
       "    </tr>\n",
       "    <tr>\n",
       "      <th>1</th>\n",
       "      <td>D'aww! He matches this background colour I'm s...</td>\n",
       "      <td>0</td>\n",
       "      <td>d aww match background colour m seemingly stuc...</td>\n",
       "    </tr>\n",
       "    <tr>\n",
       "      <th>2</th>\n",
       "      <td>Hey man, I'm really not trying to edit war. It...</td>\n",
       "      <td>0</td>\n",
       "      <td>hey man m try edit war s guy constantly remove...</td>\n",
       "    </tr>\n",
       "    <tr>\n",
       "      <th>3</th>\n",
       "      <td>\"\\nMore\\nI can't make any real suggestions on ...</td>\n",
       "      <td>0</td>\n",
       "      <td>t real suggestion improvement wonder section...</td>\n",
       "    </tr>\n",
       "    <tr>\n",
       "      <th>4</th>\n",
       "      <td>You, sir, are my hero. Any chance you remember...</td>\n",
       "      <td>0</td>\n",
       "      <td>sir hero chance remember page s</td>\n",
       "    </tr>\n",
       "  </tbody>\n",
       "</table>\n",
       "</div>"
      ],
      "text/plain": [
       "                                                text  toxic  \\\n",
       "0  Explanation\\nWhy the edits made under my usern...      0   \n",
       "1  D'aww! He matches this background colour I'm s...      0   \n",
       "2  Hey man, I'm really not trying to edit war. It...      0   \n",
       "3  \"\\nMore\\nI can't make any real suggestions on ...      0   \n",
       "4  You, sir, are my hero. Any chance you remember...      0   \n",
       "\n",
       "                                          clean_text  \n",
       "0  explanation edit username hardcore metallica f...  \n",
       "1  d aww match background colour m seemingly stuc...  \n",
       "2  hey man m try edit war s guy constantly remove...  \n",
       "3    t real suggestion improvement wonder section...  \n",
       "4                    sir hero chance remember page s  "
      ]
     },
     "execution_count": 12,
     "metadata": {},
     "output_type": "execute_result"
    }
   ],
   "source": [
    "# Загрузка модели SpaCy\n",
    "nlp = spacy.load('en_core_web_sm')\n",
    "\n",
    "# Приведение текста к нижнему регистру и удаление спецсимволов\n",
    "def preprocess_text(text):\n",
    "    text = text.lower()\n",
    "    text = re.sub(r'\\W', ' ', text)\n",
    "    text = re.sub(r'\\s+', ' ', text)\n",
    "    return text\n",
    "\n",
    "# Лемматизация текста с использованием SpaCy\n",
    "def spacy_lemmatize(doc):\n",
    "    return ' '.join([token.lemma_ for token in doc if not token.is_stop])\n",
    "\n",
    "# Применение предобработки и лемматизации с использованием SpaCy\n",
    "def preprocess_and_lemmatize_iterative(texts, batch_size=100):\n",
    "    texts_processed = []\n",
    "    for i in range(0, len(texts), batch_size):\n",
    "        batch_texts = texts[i:i+batch_size]\n",
    "        batch_texts = [preprocess_text(text) for text in batch_texts]\n",
    "        docs = list(nlp.pipe(batch_texts, batch_size=batch_size))\n",
    "        lemmatized_texts = [spacy_lemmatize(doc) for doc in docs]\n",
    "        texts_processed.extend(lemmatized_texts)\n",
    "    return texts_processed\n",
    "\n",
    "# Применение к данным\n",
    "data['clean_text'] = preprocess_and_lemmatize_iterative(data['text'].tolist(), batch_size=100)\n",
    "\n",
    "# Сохранение результатов в файл\n",
    "data.to_csv('cleaned_data_spacy.csv', index=False)\n",
    "\n",
    "# Проверка результата\n",
    "data.head()"
   ]
  },
  {
   "cell_type": "markdown",
   "metadata": {},
   "source": [
    "Нужно оставить только один столбец с текстом, который будем использовать для анализа. \n",
    "\n",
    "`text` - исходный текст, который может содержать нежелательные символы и форматы.\n",
    "\n",
    "`clean_text` - очищенный текст, подходящий для анализа.\n",
    "\n",
    "\n",
    "Для создания облака слов нам наиболее полезен столбец clean_text, так как он уже очищен и подготовлен для анализа. Следовательно, столбец text можно удалить."
   ]
  },
  {
   "cell_type": "code",
   "execution_count": 13,
   "metadata": {},
   "outputs": [
    {
     "data": {
      "text/html": [
       "<div>\n",
       "<style scoped>\n",
       "    .dataframe tbody tr th:only-of-type {\n",
       "        vertical-align: middle;\n",
       "    }\n",
       "\n",
       "    .dataframe tbody tr th {\n",
       "        vertical-align: top;\n",
       "    }\n",
       "\n",
       "    .dataframe thead th {\n",
       "        text-align: right;\n",
       "    }\n",
       "</style>\n",
       "<table border=\"1\" class=\"dataframe\">\n",
       "  <thead>\n",
       "    <tr style=\"text-align: right;\">\n",
       "      <th></th>\n",
       "      <th>toxic</th>\n",
       "      <th>clean_text</th>\n",
       "    </tr>\n",
       "  </thead>\n",
       "  <tbody>\n",
       "    <tr>\n",
       "      <th>0</th>\n",
       "      <td>0</td>\n",
       "      <td>explanation edit username hardcore metallica f...</td>\n",
       "    </tr>\n",
       "    <tr>\n",
       "      <th>1</th>\n",
       "      <td>0</td>\n",
       "      <td>d aww match background colour m seemingly stuc...</td>\n",
       "    </tr>\n",
       "    <tr>\n",
       "      <th>2</th>\n",
       "      <td>0</td>\n",
       "      <td>hey man m try edit war s guy constantly remove...</td>\n",
       "    </tr>\n",
       "    <tr>\n",
       "      <th>3</th>\n",
       "      <td>0</td>\n",
       "      <td>t real suggestion improvement wonder section...</td>\n",
       "    </tr>\n",
       "    <tr>\n",
       "      <th>4</th>\n",
       "      <td>0</td>\n",
       "      <td>sir hero chance remember page s</td>\n",
       "    </tr>\n",
       "  </tbody>\n",
       "</table>\n",
       "</div>"
      ],
      "text/plain": [
       "   toxic                                         clean_text\n",
       "0      0  explanation edit username hardcore metallica f...\n",
       "1      0  d aww match background colour m seemingly stuc...\n",
       "2      0  hey man m try edit war s guy constantly remove...\n",
       "3      0    t real suggestion improvement wonder section...\n",
       "4      0                    sir hero chance remember page s"
      ]
     },
     "execution_count": 13,
     "metadata": {},
     "output_type": "execute_result"
    }
   ],
   "source": [
    "data.drop(columns='text', inplace = True)\n",
    "data.head()"
   ]
  },
  {
   "cell_type": "markdown",
   "metadata": {},
   "source": [
    "### Распределение целевого признака"
   ]
  },
  {
   "cell_type": "code",
   "execution_count": 14,
   "metadata": {},
   "outputs": [
    {
     "data": {
      "image/png": "[encoded data removed]",
      "text/plain": [
       "<Figure size 432x288 with 1 Axes>"
      ]
     },
     "metadata": {
      "needs_background": "light"
     },
     "output_type": "display_data"
    }
   ],
   "source": [
    "sns.countplot(x='toxic', data=data)\n",
    "plt.title('Распределение токсичных комментариев')\n",
    "plt.show()"
   ]
  },
  {
   "cell_type": "code",
   "execution_count": 15,
   "metadata": {},
   "outputs": [
    {
     "data": {
      "image/png": "[encoded data removed]",
      "text/plain": [
       "<Figure size 576x576 with 1 Axes>"
      ]
     },
     "metadata": {},
     "output_type": "display_data"
    }
   ],
   "source": [
    "# Подсчёт количества токсичных и нетоксичных комментариев\n",
    "toxic_counts = data['toxic'].value_counts()\n",
    "\n",
    "# Построение круговой диаграммы\n",
    "labels = ['Non-Toxic', 'Toxic']\n",
    "colors = ['#66b3ff', '#ff6666']\n",
    "explode = (0.1, 0)  \n",
    "\n",
    "plt.figure(figsize=(8, 8))\n",
    "plt.pie(toxic_counts, labels=labels, colors=colors, explode=explode, autopct='%1.1f%%',\n",
    "        shadow=True, startangle=140)\n",
    "plt.title('Распределение токсичных комментариев')\n",
    "plt.axis('equal')  \n",
    "plt.show()"
   ]
  },
  {
   "cell_type": "markdown",
   "metadata": {},
   "source": [
    "Видно, что:\n",
    "\n",
    "- 89.8% комментариев нетоксичные.\n",
    "- 10.2% комментариев токсичные.\n",
    "\n",
    "\n",
    "На основе этих данных можно сделать следующий вывод о балансе классов:\n",
    "\n",
    "- Нетоксичные комментарии: 89.8%\n",
    "- Токсичные комментарии: 10.2%\n",
    "\n",
    "Это указывает на значительный дисбаланс классов, с преобладанием нетоксичных комментариев. Такой дисбаланс нужно учитывать при построении моделей машинного обучения, так как он может влиять на качество модели. \n",
    "\n",
    "\n",
    "\n",
    "Возможно, потребуется использовать методы для работы с несбалансированными данными, такие как:\n",
    "\n",
    "- Oversampling: Увеличение количества примеров меньшего класса (токсичные).\n",
    "- Undersampling: Уменьшение количества примеров большего класса (нетоксичные).\n",
    "- Взвешивание классов: Использование взвешенных потерь для модели машинного обучения, чтобы учесть дисбаланс классов.\n",
    "\n",
    "\n",
    "Эти методы помогут создать более сбалансированные и надежные модели."
   ]
  },
  {
   "cell_type": "markdown",
   "metadata": {},
   "source": [
    "### Борьба с дисбалансом классов"
   ]
  },
  {
   "cell_type": "code",
   "execution_count": 16,
   "metadata": {},
   "outputs": [],
   "source": [
    "# Разделение данных на обучающую и валидационную выборки\n",
    "X = data['clean_text']\n",
    "y = data['toxic']\n",
    "\n",
    "X_train, X_val, y_train, y_val = train_test_split(X, y, test_size=0.2, random_state=42)\n",
    "\n",
    "# Векторизация текста\n",
    "vectorizer = TfidfVectorizer()\n",
    "X_train_vect = vectorizer.fit_transform(X_train)\n",
    "X_val_vect = vectorizer.transform(X_val)"
   ]
  },
  {
   "cell_type": "code",
   "execution_count": 17,
   "metadata": {},
   "outputs": [],
   "source": [
    "# Модель логистической регрессии без изменения весов\n",
    "lr = LogisticRegression(random_state=42)\n",
    "lr.fit(X_train_vect, y_train)\n",
    "\n",
    "# Оценка на кросс-валидации\n",
    "f1_cv_lr = cross_val_score(lr, X_train_vect, y_train, cv=5, scoring='f1').mean()\n",
    "auc_roc_cv_lr = cross_val_score(lr, X_train_vect, y_train, cv=5, scoring='roc_auc').mean()\n",
    "\n",
    "# Оценка на валидационном наборе\n",
    "y_val_pred_lr = lr.predict(X_val_vect)\n",
    "f1_val_lr = f1_score(y_val, y_val_pred_lr)\n",
    "auc_roc_val_lr = roc_auc_score(y_val, lr.predict_proba(X_val_vect)[:, 1])\n"
   ]
  },
  {
   "cell_type": "code",
   "execution_count": 18,
   "metadata": {},
   "outputs": [],
   "source": [
    "# Модель логистической регрессии с взвешиванием классов\n",
    "lr_weighted = LogisticRegression(class_weight='balanced', random_state=42)\n",
    "lr_weighted.fit(X_train_vect, y_train)\n",
    "\n",
    "# Оценка на кросс-валидации\n",
    "f1_cv_lr_weighted = cross_val_score(lr_weighted, X_train_vect, y_train, cv=5, scoring='f1').mean()\n",
    "auc_roc_cv_lr_weighted = cross_val_score(lr_weighted, X_train_vect, y_train, cv=5, scoring='roc_auc').mean()\n",
    "\n",
    "# Оценка на валидационном наборе\n",
    "y_val_pred_lr_weighted = lr_weighted.predict(X_val_vect)\n",
    "f1_val_lr_weighted = f1_score(y_val, y_val_pred_lr_weighted)\n",
    "auc_roc_val_lr_weighted = roc_auc_score(y_val, lr_weighted.predict_proba(X_val_vect)[:, 1])"
   ]
  },
  {
   "cell_type": "code",
   "execution_count": 19,
   "metadata": {},
   "outputs": [],
   "source": [
    "# Пайплайн для андерсэмплинга и логистической регрессии\n",
    "pipeline_under = ImbPipeline([\n",
    "    ('under', RandomUnderSampler(random_state=42)),\n",
    "    ('model', LogisticRegression(random_state=42))\n",
    "])\n",
    "\n",
    "pipeline_under.fit(X_train_vect, y_train)\n",
    "\n",
    "# Оценка на кросс-валидации\n",
    "f1_cv_lr_under = cross_val_score(pipeline_under, X_train_vect, y_train, cv=5, scoring='f1').mean()\n",
    "auc_roc_cv_lr_under = cross_val_score(pipeline_under, X_train_vect, y_train, cv=5, scoring='roc_auc').mean()\n",
    "\n",
    "# Оценка на валидационном наборе\n",
    "y_val_pred_lr_under = pipeline_under.predict(X_val_vect)\n",
    "f1_val_lr_under = f1_score(y_val, y_val_pred_lr_under)\n",
    "auc_roc_val_lr_under = roc_auc_score(y_val, pipeline_under.predict_proba(X_val_vect)[:, 1])"
   ]
  },
  {
   "cell_type": "code",
   "execution_count": 20,
   "metadata": {},
   "outputs": [],
   "source": [
    "# Пайплайн для оверсэмплинга и логистической регрессии\n",
    "pipeline_smote = ImbPipeline([\n",
    "    ('over', SMOTE(random_state=42)),\n",
    "    ('model', LogisticRegression(random_state=42))\n",
    "])\n",
    "\n",
    "pipeline_smote.fit(X_train_vect, y_train)\n",
    "\n",
    "# Оценка на кросс-валидации\n",
    "f1_cv_lr_smote = cross_val_score(pipeline_smote, X_train_vect, y_train, cv=5, scoring='f1').mean()\n",
    "auc_roc_cv_lr_smote = cross_val_score(pipeline_smote, X_train_vect, y_train, cv=5, scoring='roc_auc').mean()\n",
    "\n",
    "# Оценка на валидационном наборе\n",
    "y_val_pred_lr_smote = pipeline_smote.predict(X_val_vect)\n",
    "f1_val_lr_smote = f1_score(y_val, y_val_pred_lr_smote)\n",
    "auc_roc_val_lr_smote = roc_auc_score(y_val, pipeline_smote.predict_proba(X_val_vect)[:, 1])"
   ]
  },
  {
   "cell_type": "code",
   "execution_count": 21,
   "metadata": {},
   "outputs": [
    {
     "data": {
      "text/html": [
       "<div>\n",
       "<style scoped>\n",
       "    .dataframe tbody tr th:only-of-type {\n",
       "        vertical-align: middle;\n",
       "    }\n",
       "\n",
       "    .dataframe tbody tr th {\n",
       "        vertical-align: top;\n",
       "    }\n",
       "\n",
       "    .dataframe thead th {\n",
       "        text-align: right;\n",
       "    }\n",
       "</style>\n",
       "<table border=\"1\" class=\"dataframe\">\n",
       "  <thead>\n",
       "    <tr style=\"text-align: right;\">\n",
       "      <th></th>\n",
       "      <th>Метод</th>\n",
       "      <th>F1 на кросс-валидации</th>\n",
       "      <th>F1 на валидации</th>\n",
       "      <th>AUC-ROC</th>\n",
       "    </tr>\n",
       "  </thead>\n",
       "  <tbody>\n",
       "    <tr>\n",
       "      <th>0</th>\n",
       "      <td>LogisticRegression</td>\n",
       "      <td>0.720604</td>\n",
       "      <td>0.739417</td>\n",
       "      <td>0.969733</td>\n",
       "    </tr>\n",
       "    <tr>\n",
       "      <th>1</th>\n",
       "      <td>LR с взвешиванием классов</td>\n",
       "      <td>0.751239</td>\n",
       "      <td>0.755703</td>\n",
       "      <td>0.971335</td>\n",
       "    </tr>\n",
       "    <tr>\n",
       "      <th>2</th>\n",
       "      <td>LR с андерсэмплингом</td>\n",
       "      <td>0.703357</td>\n",
       "      <td>0.705008</td>\n",
       "      <td>0.964100</td>\n",
       "    </tr>\n",
       "    <tr>\n",
       "      <th>3</th>\n",
       "      <td>LR с оверсэмплингом</td>\n",
       "      <td>0.650796</td>\n",
       "      <td>0.673984</td>\n",
       "      <td>0.950906</td>\n",
       "    </tr>\n",
       "  </tbody>\n",
       "</table>\n",
       "</div>"
      ],
      "text/plain": [
       "                       Метод  F1 на кросс-валидации  F1 на валидации   AUC-ROC\n",
       "0         LogisticRegression               0.720604         0.739417  0.969733\n",
       "1  LR с взвешиванием классов               0.751239         0.755703  0.971335\n",
       "2       LR с андерсэмплингом               0.703357         0.705008  0.964100\n",
       "3        LR с оверсэмплингом               0.650796         0.673984  0.950906"
      ]
     },
     "execution_count": 21,
     "metadata": {},
     "output_type": "execute_result"
    }
   ],
   "source": [
    "# Составление таблицы с результатами\n",
    "results = pd.DataFrame({\n",
    "    'Метод': ['LogisticRegression', 'LR с взвешиванием классов', 'LR с андерсэмплингом', 'LR с оверсэмплингом'],\n",
    "    'F1 на кросс-валидации': [f1_cv_lr, f1_cv_lr_weighted, f1_cv_lr_under, f1_cv_lr_smote],\n",
    "    'F1 на валидации': [f1_val_lr, f1_val_lr_weighted, f1_val_lr_under, f1_val_lr_smote],\n",
    "    'AUC-ROC': [auc_roc_val_lr, auc_roc_val_lr_weighted, auc_roc_val_lr_under, auc_roc_val_lr_smote]\n",
    "})\n",
    "\n",
    "results"
   ]
  },
  {
   "cell_type": "markdown",
   "metadata": {},
   "source": [
    "Модель с взвешиванием классов демонстрирует лучшие результаты по метрике F1, как на кросс-валидации, так и на валидации. AUC-ROC также немного выше, что свидетельствует о лучшем качестве классификации. \n",
    "\n",
    "**Использование взвешивания классов помогает лучше справляться с дисбалансом классов.**"
   ]
  },
  {
   "cell_type": "markdown",
   "metadata": {},
   "source": [
    "### Вывод:"
   ]
  },
  {
   "cell_type": "markdown",
   "metadata": {},
   "source": [
    "- Избавились от дублирующего и неинформативного столбца Unnamed: 0\n",
    "* Привели текст к нижнему регистру\n",
    "* Удалили пунктуации и специальные символы\n",
    "* Удалили стоп-слова\n",
    "* Выполнили лемматизацию (приведение слов к их базовой форме)\n",
    "\n",
    "- Оставили только один столбец с текстом, который использовали дальше, а точнее:\n",
    "    - clean_text - очищенный текст.\n",
    "\n",
    "После построения графиков распределения целевого признака выяснили, что:\n",
    "* 89.8% комментариев нетоксичные.\n",
    "* 10.2% комментариев токсичные.\n",
    "\n",
    "- Это указывало на значительный дисбаланс классов, с преобладанием нетоксичных комментариев. \n",
    "- Пришли к выводу, что дисбаланс нужно учитывать при построении моделей машинного обучения, так как он может влиять на качество модели.\n",
    "\n",
    "\n",
    "- Использовали методы для работы с несбалансированными данными, такие как:\n",
    "* Oversampling: Увеличение количества примеров меньшего класса (токсичные).\n",
    "* Undersampling: Уменьшение количества примеров большего класса (нетоксичные).\n",
    "* Взвешивание классов: Использование взвешенных потерь для модели машинного обучения, чтобы учесть дисбаланс классов.\n",
    "\n",
    "\n",
    "- Эти методы помогли создать более сбалансированные и надежные модели.\n",
    "\n",
    "\n",
    "- Выяснили, что использование взвешивания классов помогает лучше справляться с дисбалансом классов."
   ]
  },
  {
   "cell_type": "markdown",
   "metadata": {},
   "source": [
    "## Обучение"
   ]
  },
  {
   "cell_type": "markdown",
   "metadata": {},
   "source": [
    "### Разделение данных и векторизация текста\n",
    "- Разделим данные на обучающую, валидационную и тестовую выборки и используем TfidfVectorizer для преобразования текстовых данных в числовой формат."
   ]
  },
  {
   "cell_type": "code",
   "execution_count": 22,
   "metadata": {},
   "outputs": [
    {
     "name": "stderr",
     "output_type": "stream",
     "text": [
      "2024-07-06 12:16:43,648 - Обучающая выборка: 111504 элементов (70.00%)\n",
      "2024-07-06 12:16:43,649 - Валидационная выборка: 23894 элементов (15.00%)\n",
      "2024-07-06 12:16:43,649 - Тестовая выборка: 23894 элементов (15.00%)\n"
     ]
    }
   ],
   "source": [
    "# Настройка ведения журнала\n",
    "logging.basicConfig(level=logging.INFO, format='%(asctime)s - %(message)s')\n",
    "\n",
    "X = data['clean_text']\n",
    "y = data['toxic']\n",
    "\n",
    "# Разделение данных\n",
    "X_train, X_temp, y_train, y_temp = train_test_split(X, y, test_size=0.3, random_state=42, stratify=y)\n",
    "X_val, X_test, y_val, y_test = train_test_split(X_temp, y_temp, test_size=0.5, random_state=42, stratify=y_temp)\n",
    "\n",
    "# Векторизация текста\n",
    "vectorizer = TfidfVectorizer()\n",
    "X_train_vec = vectorizer.fit_transform(X_train)\n",
    "X_val_vec = vectorizer.transform(X_val)\n",
    "X_test_vec = vectorizer.transform(X_test)\n",
    "\n",
    "# Вывод информации о выборках\n",
    "train_pct = len(X_train) / len(X) * 100\n",
    "val_pct = len(X_val) / len(X) * 100\n",
    "test_pct = len(X_test) / len(X) * 100\n",
    "logging.info(f'Обучающая выборка: {len(X_train)} элементов ({train_pct:.2f}%)')\n",
    "logging.info(f'Валидационная выборка: {len(X_val)} элементов ({val_pct:.2f}%)')\n",
    "logging.info(f'Тестовая выборка: {len(X_test)} элементов ({test_pct:.2f}%)')"
   ]
  },
  {
   "cell_type": "markdown",
   "metadata": {},
   "source": [
    "### Обучение и оценка моделей\n",
    "- Обучим модели LogisticRegression, DecisionTreeClassifier, RandomForestClassifier, и LGBMClassifier с различными гиперпараметрами. \n",
    "- Оценим модели на валидационной выборке по метрике F1."
   ]
  },
  {
   "cell_type": "code",
   "execution_count": 23,
   "metadata": {},
   "outputs": [
    {
     "name": "stderr",
     "output_type": "stream",
     "text": [
      "2024-07-06 12:16:43,659 - Обучение модели LogisticRegression\n"
     ]
    },
    {
     "name": "stdout",
     "output_type": "stream",
     "text": [
      "Fitting 3 folds for each of 3 candidates, totalling 9 fits\n",
      "[CV 1/3] END .............................C=0.1;, score=0.716 total time=   5.8s\n",
      "[CV 2/3] END .............................C=0.1;, score=0.712 total time=   5.8s\n",
      "[CV 3/3] END .............................C=0.1;, score=0.709 total time=   5.6s\n",
      "[CV 1/3] END ...............................C=1;, score=0.751 total time=   9.9s\n",
      "[CV 2/3] END ...............................C=1;, score=0.741 total time=   6.6s\n",
      "[CV 3/3] END ...............................C=1;, score=0.755 total time=   9.4s\n",
      "[CV 1/3] END ..............................C=10;, score=0.769 total time=  13.0s\n",
      "[CV 2/3] END ..............................C=10;, score=0.757 total time=  11.2s\n",
      "[CV 3/3] END ..............................C=10;, score=0.767 total time=  10.4s\n"
     ]
    },
    {
     "name": "stderr",
     "output_type": "stream",
     "text": [
      "2024-07-06 12:18:29,071 - Модель LogisticRegression завершена с F1 Score: 0.7551644988523336 и лучшими параметрами: {'C': 10}\n",
      "2024-07-06 12:18:29,158 - Обучение модели DecisionTreeClassifier\n"
     ]
    },
    {
     "name": "stdout",
     "output_type": "stream",
     "text": [
      "Fitting 3 folds for each of 3 candidates, totalling 9 fits\n",
      "[CV 1/3] END ......................max_depth=10;, score=0.560 total time=  10.4s\n",
      "[CV 2/3] END ......................max_depth=10;, score=0.558 total time=  10.2s\n",
      "[CV 3/3] END ......................max_depth=10;, score=0.568 total time=  10.5s\n",
      "[CV 1/3] END ......................max_depth=20;, score=0.630 total time=  15.4s\n",
      "[CV 2/3] END ......................max_depth=20;, score=0.622 total time=  15.6s\n",
      "[CV 3/3] END ......................max_depth=20;, score=0.631 total time=  15.8s\n",
      "[CV 1/3] END ......................max_depth=30;, score=0.649 total time=  21.0s\n",
      "[CV 2/3] END ......................max_depth=30;, score=0.642 total time=  21.0s\n",
      "[CV 3/3] END ......................max_depth=30;, score=0.662 total time=  21.7s\n"
     ]
    },
    {
     "name": "stderr",
     "output_type": "stream",
     "text": [
      "2024-07-06 12:21:13,752 - Модель DecisionTreeClassifier завершена с F1 Score: 0.6520865878152198 и лучшими параметрами: {'max_depth': 30}\n",
      "2024-07-06 12:21:13,753 - Обучение модели RandomForestClassifier\n"
     ]
    },
    {
     "name": "stdout",
     "output_type": "stream",
     "text": [
      "Fitting 3 folds for each of 9 candidates, totalling 27 fits\n",
      "[CV 1/3] END .....max_depth=10, n_estimators=50;, score=0.329 total time=   8.3s\n",
      "[CV 2/3] END .....max_depth=10, n_estimators=50;, score=0.375 total time=   8.3s\n",
      "[CV 3/3] END .....max_depth=10, n_estimators=50;, score=0.357 total time=   8.4s\n",
      "[CV 1/3] END ....max_depth=10, n_estimators=100;, score=0.373 total time=  16.4s\n",
      "[CV 2/3] END ....max_depth=10, n_estimators=100;, score=0.344 total time=  16.7s\n",
      "[CV 3/3] END ....max_depth=10, n_estimators=100;, score=0.378 total time=  16.7s\n",
      "[CV 1/3] END ....max_depth=10, n_estimators=200;, score=0.379 total time=  33.1s\n",
      "[CV 2/3] END ....max_depth=10, n_estimators=200;, score=0.366 total time=  33.1s\n",
      "[CV 3/3] END ....max_depth=10, n_estimators=200;, score=0.354 total time=  33.5s\n",
      "[CV 1/3] END .....max_depth=20, n_estimators=50;, score=0.369 total time=  17.2s\n",
      "[CV 2/3] END .....max_depth=20, n_estimators=50;, score=0.393 total time=  17.5s\n",
      "[CV 3/3] END .....max_depth=20, n_estimators=50;, score=0.415 total time=  17.6s\n",
      "[CV 1/3] END ....max_depth=20, n_estimators=100;, score=0.420 total time=  35.2s\n",
      "[CV 2/3] END ....max_depth=20, n_estimators=100;, score=0.423 total time=  34.5s\n",
      "[CV 3/3] END ....max_depth=20, n_estimators=100;, score=0.419 total time=  35.1s\n",
      "[CV 1/3] END ....max_depth=20, n_estimators=200;, score=0.417 total time= 1.2min\n",
      "[CV 2/3] END ....max_depth=20, n_estimators=200;, score=0.418 total time= 1.2min\n",
      "[CV 3/3] END ....max_depth=20, n_estimators=200;, score=0.421 total time= 1.2min\n",
      "[CV 1/3] END .....max_depth=30, n_estimators=50;, score=0.443 total time=  27.7s\n",
      "[CV 2/3] END .....max_depth=30, n_estimators=50;, score=0.437 total time=  27.6s\n",
      "[CV 3/3] END .....max_depth=30, n_estimators=50;, score=0.433 total time=  27.9s\n",
      "[CV 1/3] END ....max_depth=30, n_estimators=100;, score=0.448 total time=  55.4s\n",
      "[CV 2/3] END ....max_depth=30, n_estimators=100;, score=0.439 total time=  54.3s\n",
      "[CV 3/3] END ....max_depth=30, n_estimators=100;, score=0.452 total time=  55.3s\n",
      "[CV 1/3] END ....max_depth=30, n_estimators=200;, score=0.428 total time= 1.8min\n",
      "[CV 2/3] END ....max_depth=30, n_estimators=200;, score=0.444 total time= 1.8min\n",
      "[CV 3/3] END ....max_depth=30, n_estimators=200;, score=0.435 total time= 1.9min\n"
     ]
    },
    {
     "name": "stderr",
     "output_type": "stream",
     "text": [
      "2024-07-06 12:40:15,687 - Модель RandomForestClassifier завершена с F1 Score: 0.4331112809872229 и лучшими параметрами: {'max_depth': 30, 'n_estimators': 100}\n",
      "2024-07-06 12:40:15,688 - Обучение модели LGBMClassifier\n"
     ]
    },
    {
     "name": "stdout",
     "output_type": "stream",
     "text": [
      "Fitting 3 folds for each of 4 candidates, totalling 12 fits\n",
      "[CV 1/3] END ..learning_rate=0.1, num_leaves=30;, score=0.742 total time= 1.1min\n",
      "[CV 2/3] END ..learning_rate=0.1, num_leaves=30;, score=0.734 total time= 1.1min\n",
      "[CV 3/3] END ..learning_rate=0.1, num_leaves=30;, score=0.745 total time= 1.1min\n",
      "[CV 1/3] END ..learning_rate=0.1, num_leaves=50;, score=0.743 total time= 1.6min\n",
      "[CV 2/3] END ..learning_rate=0.1, num_leaves=50;, score=0.735 total time= 1.6min\n",
      "[CV 3/3] END ..learning_rate=0.1, num_leaves=50;, score=0.747 total time= 1.5min\n",
      "[CV 1/3] END ..learning_rate=0.2, num_leaves=30;, score=0.750 total time= 1.1min\n",
      "[CV 2/3] END ..learning_rate=0.2, num_leaves=30;, score=0.739 total time= 1.1min\n",
      "[CV 3/3] END ..learning_rate=0.2, num_leaves=30;, score=0.751 total time=  59.5s\n",
      "[CV 1/3] END ..learning_rate=0.2, num_leaves=50;, score=0.748 total time= 1.4min\n",
      "[CV 2/3] END ..learning_rate=0.2, num_leaves=50;, score=0.749 total time= 1.5min\n",
      "[CV 3/3] END ..learning_rate=0.2, num_leaves=50;, score=0.754 total time= 1.5min\n"
     ]
    },
    {
     "name": "stderr",
     "output_type": "stream",
     "text": [
      "2024-07-06 12:57:56,990 - Модель LGBMClassifier завершена с F1 Score: 0.7601945379723157 и лучшими параметрами: {'num_leaves': 50, 'learning_rate': 0.2}\n"
     ]
    }
   ],
   "source": [
    "# Определение моделей и их гиперпараметров\n",
    "models = {\n",
    "    'LogisticRegression': {\n",
    "        'model': LogisticRegression(class_weight='balanced', max_iter=1000),\n",
    "        'params': {\n",
    "            'C': [0.1, 1, 10]\n",
    "        },\n",
    "        'search': GridSearchCV\n",
    "    },\n",
    "    'DecisionTreeClassifier': {\n",
    "        'model': DecisionTreeClassifier(class_weight='balanced'),\n",
    "        'params': {\n",
    "            'max_depth': [10, 20, 30]\n",
    "        },\n",
    "        'search': GridSearchCV\n",
    "    },\n",
    "    'RandomForestClassifier': {\n",
    "        'model': RandomForestClassifier(class_weight='balanced'),\n",
    "        'params': {\n",
    "            'n_estimators': [50, 100, 200],\n",
    "            'max_depth': [10, 20, 30]\n",
    "        },\n",
    "        'search': GridSearchCV\n",
    "    },\n",
    "    'LGBMClassifier': {\n",
    "        'model': LGBMClassifier(class_weight='balanced'),\n",
    "        'params': {\n",
    "            'num_leaves': [30, 50],\n",
    "            'learning_rate': [0.1, 0.2]\n",
    "        },\n",
    "        'search': RandomizedSearchCV\n",
    "    }\n",
    "}\n",
    "\n",
    "# Результирующая таблица\n",
    "results = []\n",
    "\n",
    "# Обучение и оценка моделей\n",
    "for model_name, model_info in models.items():\n",
    "    logging.info(f'Обучение модели {model_name}')\n",
    "    if model_info['search'] == GridSearchCV:\n",
    "        clf = GridSearchCV(model_info['model'], model_info['params'], scoring='f1', cv=3, verbose=3)\n",
    "    else:\n",
    "        clf = RandomizedSearchCV(model_info['model'], model_info['params'], scoring='f1', cv=3, verbose=3, n_iter=10, random_state=42)\n",
    "    \n",
    "    clf.fit(X_train_vec, y_train)\n",
    "    y_val_pred = clf.predict(X_val_vec)\n",
    "    f1 = f1_score(y_val, y_val_pred)\n",
    "    best_params = clf.best_params_\n",
    "    results.append({'Model': model_name, 'F1 Score': f1, 'Best Params': best_params})\n",
    "    logging.info(f'Модель {model_name} завершена с F1 Score: {f1} и лучшими параметрами: {best_params}')"
   ]
  },
  {
   "cell_type": "markdown",
   "metadata": {},
   "source": [
    "### Получение результирующей таблицы\n",
    "- Составим таблицу с названием модели и значением метрики F1 на валидационной выборке."
   ]
  },
  {
   "cell_type": "code",
   "execution_count": 24,
   "metadata": {},
   "outputs": [
    {
     "data": {
      "text/html": [
       "<div>\n",
       "<style scoped>\n",
       "    .dataframe tbody tr th:only-of-type {\n",
       "        vertical-align: middle;\n",
       "    }\n",
       "\n",
       "    .dataframe tbody tr th {\n",
       "        vertical-align: top;\n",
       "    }\n",
       "\n",
       "    .dataframe thead th {\n",
       "        text-align: right;\n",
       "    }\n",
       "</style>\n",
       "<table border=\"1\" class=\"dataframe\">\n",
       "  <thead>\n",
       "    <tr style=\"text-align: right;\">\n",
       "      <th></th>\n",
       "      <th>Model</th>\n",
       "      <th>F1 Score</th>\n",
       "      <th>Best Params</th>\n",
       "    </tr>\n",
       "  </thead>\n",
       "  <tbody>\n",
       "    <tr>\n",
       "      <th>0</th>\n",
       "      <td>LogisticRegression</td>\n",
       "      <td>0.755164</td>\n",
       "      <td>{'C': 10}</td>\n",
       "    </tr>\n",
       "    <tr>\n",
       "      <th>1</th>\n",
       "      <td>DecisionTreeClassifier</td>\n",
       "      <td>0.652087</td>\n",
       "      <td>{'max_depth': 30}</td>\n",
       "    </tr>\n",
       "    <tr>\n",
       "      <th>2</th>\n",
       "      <td>RandomForestClassifier</td>\n",
       "      <td>0.433111</td>\n",
       "      <td>{'max_depth': 30, 'n_estimators': 100}</td>\n",
       "    </tr>\n",
       "    <tr>\n",
       "      <th>3</th>\n",
       "      <td>LGBMClassifier</td>\n",
       "      <td>0.760195</td>\n",
       "      <td>{'num_leaves': 50, 'learning_rate': 0.2}</td>\n",
       "    </tr>\n",
       "  </tbody>\n",
       "</table>\n",
       "</div>"
      ],
      "text/plain": [
       "                    Model  F1 Score                               Best Params\n",
       "0      LogisticRegression  0.755164                                 {'C': 10}\n",
       "1  DecisionTreeClassifier  0.652087                         {'max_depth': 30}\n",
       "2  RandomForestClassifier  0.433111    {'max_depth': 30, 'n_estimators': 100}\n",
       "3          LGBMClassifier  0.760195  {'num_leaves': 50, 'learning_rate': 0.2}"
      ]
     },
     "execution_count": 24,
     "metadata": {},
     "output_type": "execute_result"
    }
   ],
   "source": [
    "# Создание результирующей таблицы\n",
    "results_df = pd.DataFrame(results)\n",
    "\n",
    "\n",
    "results_df"
   ]
  },
  {
   "cell_type": "markdown",
   "metadata": {},
   "source": [
    "### Вывод:"
   ]
  },
  {
   "cell_type": "markdown",
   "metadata": {},
   "source": [
    "- Разделили данные на обучающую, валидационную и тестовую выборки.\n",
    "- Использовали TfidfVectorizer для преобразования текстовых данных в числовой формат.\n",
    "- Обучили модели LogisticRegression, DecisionTreeClassifier, RandomForestClassifier, и LGBMClassifier с различными гиперпараметрами с использованием взвешивания классов.\n",
    "- Оценим модели на валидационной выборке по метрике F1.\n",
    "- Составили таблицу с названием модели и значением метрики F1 на валидационной выборке.\n"
   ]
  },
  {
   "cell_type": "markdown",
   "metadata": {},
   "source": [
    "Из анализа результатов видно, что две модели показали себя наиболее эффективно для данной задачи. Логистическая регрессия и LGBMClassifier продемонстрировали наилучшие показатели F1 на валидационной выборке. Это говорит о том, что они хорошо справляются с задачей классификации, учитывая дисбаланс классов в данных.\n",
    "\n",
    "Однако выбор **LGBMClassifier для тестирования** обосновывается его эффективностью, быстродействием, способностью к обобщению и гибкостью настройки, что делает его мощным инструментом для решения широкого круга задач машинного обучения."
   ]
  },
  {
   "cell_type": "markdown",
   "metadata": {},
   "source": [
    "## Тестирование лучшей модели"
   ]
  },
  {
   "cell_type": "markdown",
   "metadata": {},
   "source": [
    "- Создадим и обучим модель LGBMClassifier с лучшими параметрами на обучающей выборке.\n",
    "- Выполним предсказание для тестовой выборки.\n",
    "- Рассчитаем метрики F1 Score, ROC AUC, Precision, Recall и Accuracy.\n",
    "- Построим ROC кривую и выведем её на экран."
   ]
  },
  {
   "cell_type": "code",
   "execution_count": 27,
   "metadata": {},
   "outputs": [
    {
     "name": "stdout",
     "output_type": "stream",
     "text": [
      "F1 Score: 0.76351987940456\n",
      "ROC AUC: 0.9629348626255596\n",
      "Precision: 0.7037165682528655\n",
      "Recall: 0.8344316309719935\n",
      "Accuracy: 0.9474763538963756\n"
     ]
    }
   ],
   "source": [
    "# Обучение модели LGBMClassifier с лучшими параметрами на обучающей выборке\n",
    "best_lgbm_model = LGBMClassifier(class_weight='balanced', num_leaves=50, learning_rate=0.2)\n",
    "best_lgbm_model.fit(X_train_vec, y_train)\n",
    "\n",
    "# Предсказание на тестовой выборке\n",
    "y_test_pred = best_lgbm_model.predict(X_test_vec)\n",
    "y_test_pred_prob = best_lgbm_model.predict_proba(X_test_vec)[:, 1]\n",
    "\n",
    "# Расчет метрик\n",
    "f1 = f1_score(y_test, y_test_pred)\n",
    "roc_auc = roc_auc_score(y_test, y_test_pred_prob)\n",
    "precision = precision_score(y_test, y_test_pred)\n",
    "recall = recall_score(y_test, y_test_pred)\n",
    "accuracy = accuracy_score(y_test, y_test_pred)\n",
    "\n",
    "# Вывод метрик\n",
    "print(f'F1 Score: {f1}')\n",
    "print(f'ROC AUC: {roc_auc}')\n",
    "print(f'Precision: {precision}')\n",
    "print(f'Recall: {recall}')\n",
    "print(f'Accuracy: {accuracy}')"
   ]
  },
  {
   "cell_type": "code",
   "execution_count": 28,
   "metadata": {},
   "outputs": [
    {
     "data": {
      "image/png": "[encoded data removed]",
      "text/plain": [
       "<Figure size 720x432 with 1 Axes>"
      ]
     },
     "metadata": {
      "needs_background": "light"
     },
     "output_type": "display_data"
    }
   ],
   "source": [
    "# Построение ROC кривой\n",
    "fpr, tpr, thresholds = roc_curve(y_test, y_test_pred_prob)\n",
    "\n",
    "plt.figure(figsize=(10, 6))\n",
    "plt.plot(fpr, tpr, label=f'Logistic Regression (AUC = {roc_auc:.2f})')\n",
    "plt.plot([0, 1], [0, 1], linestyle='--', color='gray')\n",
    "plt.xlabel('False Positive Rate')\n",
    "plt.ylabel('True Positive Rate')\n",
    "plt.title('ROC Curve')\n",
    "plt.legend()\n",
    "plt.show()"
   ]
  },
  {
   "cell_type": "markdown",
   "metadata": {},
   "source": [
    "### Вывод:"
   ]
  },
  {
   "cell_type": "markdown",
   "metadata": {},
   "source": [
    "На основе полученных метрик и графика ROC-кривой можно сделать следующие выводы о производительности модели LGBMClassifier:\n",
    "\n",
    "- Модель демонстрирует хорошую способность к идентификации как положительных, так и отрицательных классов.\n",
    "\n",
    "- Кривая ROC показывает, что модель имеет высокую способность к различию  между положительными и отрицательными классами. Это означает, что модель может эффективно уменьшить количество ложных положительных и ложных отрицательных предсказаний.\n",
    "\n",
    "- Высокий результат F1 указывает на то, что модель хорошо сбалансирована.\n",
    "\n",
    "- Модель показывает высокую точность предсказаний, что свидетельствует о её общей эффективности в классификации.\n",
    "\n",
    "\n",
    "Исходя из всех этих факторов, можно сказать, что LGBMClassifier является надежным и эффективным выбором для данной задачи классификации, демонстрируя отличные результаты по всем ключевым метрикам."
   ]
  },
  {
   "cell_type": "markdown",
   "metadata": {},
   "source": [
    "## Выводы"
   ]
  },
  {
   "cell_type": "markdown",
   "metadata": {},
   "source": [
    "- Избавились от дублирующего и неинформативного столбца Unnamed: 0\n",
    "* Привели текст к нижнему регистру\n",
    "* Удалили пунктуации и специальные символы\n",
    "* Удалили стоп-слова\n",
    "* Выполнили лемматизацию (приведение слов к их базовой форме)\n",
    "\n",
    "- Оставили только один столбец с текстом, который использовали дальше, а точнее:\n",
    "    - clean_text - очищенный текст.\n",
    "\n",
    "После построения графиков распределения целевого признака выяснили, что:\n",
    "* 89.8% комментариев нетоксичные.\n",
    "* 10.2% комментариев токсичные.\n",
    "\n",
    "- Это указывало на значительный дисбаланс классов, с преобладанием нетоксичных комментариев. \n",
    "- Пришли к выводу, что дисбаланс нужно учитывать при построении моделей машинного обучения, так как он может влиять на качество модели.\n",
    "\n",
    "\n",
    "- Использовали методы для работы с несбалансированными данными, такие как:\n",
    "    * Oversampling: Увеличение количества примеров меньшего класса (токсичные).\n",
    "    * Undersampling: Уменьшение количества примеров большего класса (нетоксичные).\n",
    "    * Взвешивание классов: Использование взвешенных потерь для модели машинного обучения, чтобы учесть дисбаланс классов.\n",
    "\n",
    "\n",
    "- Эти методы помогли создать более сбалансированные и надежные модели.\n",
    "\n",
    "\n",
    "- Выяснили, что использование взвешивания классов помогает лучше справляться с дисбалансом классов.\n",
    "\n",
    "\n",
    "\n",
    "- Разделили данные на обучающую, валидационную и тестовую выборки.\n",
    "- Использовали TfidfVectorizer для преобразования текстовых данных в числовой формат.\n",
    "- Обучили модели LogisticRegression, DecisionTreeClassifier, RandomForestClassifier, и LGBMClassifier с различными гиперпараметрами с использованием взвешивания классов.\n",
    "- Оценим модели на валидационной выборке по метрике F1.\n",
    "- Составили таблицу с названием модели и значением метрики F1 на валидационной выборке.\n",
    "\n",
    "\n",
    "\n",
    "Выбрали **LGBMClassifier для тестирования**, выбор обосновывается эффективностью, быстродействием, способностью к обобщению и гибкостью настройки, что делает мощным инструментом для решения широкого круга задач машинного обучения.\n",
    "\n",
    "\n",
    "На основе полученных метрик и графика ROC-кривой для лучшей модели сделали следующие выводы о производительности модели:\n",
    "\n",
    "- Модель продемострировала хорошую способность к идентификации как положительных, так и отрицательных классов.\n",
    "\n",
    "- Кривая ROC показала, что модель имеет высокую способность к различию  между положительными и отрицательными классами. Это означает, что модель может эффективно уменьшить количество ложных положительных и ложных отрицательных предсказаний.\n",
    "\n",
    "- Высокий результат F1 указывает на то, что модель хорошо сбалансирована.\n",
    "\n",
    "- Модель показывает высокую точность предсказаний, что свидетельствует о её общей эффективности в классификации.\n",
    "\n",
    "\n",
    "Исходя из всех этих факторов, можно сказать, что модель является надежным и эффективным выбором для данной задачи классификации, демонстрируя отличные результаты по всем ключевым метрикам."
   ]
  }
 ],
 "metadata": {
  "ExecuteTimeLog": [
   {
    "duration": 1914,
    "start_time": "2024-07-05T08:51:09.076Z"
   },
   {
    "duration": 3427,
    "start_time": "2024-07-05T08:55:09.930Z"
   },
   {
    "duration": 35,
    "start_time": "2024-07-05T08:55:20.563Z"
   },
   {
    "duration": 10,
    "start_time": "2024-07-05T08:55:37.521Z"
   },
   {
    "duration": 22,
    "start_time": "2024-07-05T08:56:07.923Z"
   },
   {
    "duration": 19,
    "start_time": "2024-07-05T09:00:26.484Z"
   },
   {
    "duration": 7734,
    "start_time": "2024-07-05T09:05:25.203Z"
   },
   {
    "duration": 5,
    "start_time": "2024-07-05T09:06:07.736Z"
   },
   {
    "duration": 28534,
    "start_time": "2024-07-05T09:06:12.063Z"
   },
   {
    "duration": 11,
    "start_time": "2024-07-05T09:08:06.037Z"
   },
   {
    "duration": 204,
    "start_time": "2024-07-05T09:08:21.757Z"
   },
   {
    "duration": 11,
    "start_time": "2024-07-05T09:08:41.973Z"
   },
   {
    "duration": 3552,
    "start_time": "2024-07-05T09:09:08.753Z"
   },
   {
    "duration": 14,
    "start_time": "2024-07-05T09:09:39.907Z"
   },
   {
    "duration": 33349,
    "start_time": "2024-07-05T09:09:44.564Z"
   },
   {
    "duration": 11,
    "start_time": "2024-07-05T09:11:07.943Z"
   },
   {
    "duration": 33080,
    "start_time": "2024-07-05T09:11:14.652Z"
   },
   {
    "duration": 11,
    "start_time": "2024-07-05T09:13:27.074Z"
   },
   {
    "duration": 33603,
    "start_time": "2024-07-05T09:13:33.282Z"
   },
   {
    "duration": 11,
    "start_time": "2024-07-05T09:15:24.611Z"
   },
   {
    "duration": 33484,
    "start_time": "2024-07-05T09:15:30.272Z"
   },
   {
    "duration": 34269,
    "start_time": "2024-07-05T09:16:18.638Z"
   },
   {
    "duration": 12,
    "start_time": "2024-07-05T09:20:03.993Z"
   },
   {
    "duration": 65,
    "start_time": "2024-07-05T09:20:19.339Z"
   },
   {
    "duration": 496,
    "start_time": "2024-07-05T09:20:21.899Z"
   },
   {
    "duration": 5,
    "start_time": "2024-07-05T09:20:32.632Z"
   },
   {
    "duration": 258,
    "start_time": "2024-07-05T09:20:35.471Z"
   },
   {
    "duration": 2445,
    "start_time": "2024-07-05T09:24:40.639Z"
   },
   {
    "duration": 1598,
    "start_time": "2024-07-05T09:24:43.086Z"
   },
   {
    "duration": 954,
    "start_time": "2024-07-05T09:24:44.685Z"
   },
   {
    "duration": 24,
    "start_time": "2024-07-05T09:24:45.640Z"
   },
   {
    "duration": 9,
    "start_time": "2024-07-05T09:24:45.666Z"
   },
   {
    "duration": 12,
    "start_time": "2024-07-05T09:24:45.677Z"
   },
   {
    "duration": 28410,
    "start_time": "2024-07-05T09:24:45.690Z"
   },
   {
    "duration": 33937,
    "start_time": "2024-07-05T09:25:14.101Z"
   },
   {
    "duration": 2479,
    "start_time": "2024-07-05T09:28:30.029Z"
   },
   {
    "duration": 1640,
    "start_time": "2024-07-05T09:28:32.511Z"
   },
   {
    "duration": 951,
    "start_time": "2024-07-05T09:28:34.153Z"
   },
   {
    "duration": 27,
    "start_time": "2024-07-05T09:28:35.106Z"
   },
   {
    "duration": 10,
    "start_time": "2024-07-05T09:28:35.135Z"
   },
   {
    "duration": 13,
    "start_time": "2024-07-05T09:28:35.155Z"
   },
   {
    "duration": 28627,
    "start_time": "2024-07-05T09:28:35.170Z"
   },
   {
    "duration": 106,
    "start_time": "2024-07-05T09:29:03.798Z"
   },
   {
    "duration": 8381,
    "start_time": "2024-07-05T09:30:56.847Z"
   },
   {
    "duration": 1526,
    "start_time": "2024-07-05T09:32:47.911Z"
   },
   {
    "duration": 965,
    "start_time": "2024-07-05T09:32:49.439Z"
   },
   {
    "duration": 29,
    "start_time": "2024-07-05T09:32:50.405Z"
   },
   {
    "duration": 20,
    "start_time": "2024-07-05T09:32:50.436Z"
   },
   {
    "duration": 13,
    "start_time": "2024-07-05T09:32:50.458Z"
   },
   {
    "duration": 1071,
    "start_time": "2024-07-05T09:32:50.473Z"
   },
   {
    "duration": 1566,
    "start_time": "2024-07-05T09:33:24.439Z"
   },
   {
    "duration": 955,
    "start_time": "2024-07-05T09:33:26.006Z"
   },
   {
    "duration": 25,
    "start_time": "2024-07-05T09:33:26.962Z"
   },
   {
    "duration": 26,
    "start_time": "2024-07-05T09:33:26.988Z"
   },
   {
    "duration": 68,
    "start_time": "2024-07-05T09:33:27.016Z"
   },
   {
    "duration": 28817,
    "start_time": "2024-07-05T09:33:27.086Z"
   },
   {
    "duration": 1570,
    "start_time": "2024-07-05T09:38:25.898Z"
   },
   {
    "duration": 972,
    "start_time": "2024-07-05T09:38:27.470Z"
   },
   {
    "duration": 27,
    "start_time": "2024-07-05T09:38:28.443Z"
   },
   {
    "duration": 10,
    "start_time": "2024-07-05T09:38:28.472Z"
   },
   {
    "duration": 15,
    "start_time": "2024-07-05T09:38:28.484Z"
   },
   {
    "duration": 28621,
    "start_time": "2024-07-05T09:38:28.501Z"
   },
   {
    "duration": 1552,
    "start_time": "2024-07-05T09:43:39.974Z"
   },
   {
    "duration": 954,
    "start_time": "2024-07-05T09:43:41.528Z"
   },
   {
    "duration": 30,
    "start_time": "2024-07-05T09:43:42.484Z"
   },
   {
    "duration": 10,
    "start_time": "2024-07-05T09:43:42.515Z"
   },
   {
    "duration": 30,
    "start_time": "2024-07-05T09:43:42.527Z"
   },
   {
    "duration": 28843,
    "start_time": "2024-07-05T09:43:42.559Z"
   },
   {
    "duration": 26,
    "start_time": "2024-07-05T09:44:11.404Z"
   },
   {
    "duration": 28,
    "start_time": "2024-07-05T09:44:56.336Z"
   },
   {
    "duration": 132,
    "start_time": "2024-07-05T09:45:44.481Z"
   },
   {
    "duration": 126,
    "start_time": "2024-07-05T09:45:50.709Z"
   },
   {
    "duration": 1657,
    "start_time": "2024-07-05T09:46:44.947Z"
   },
   {
    "duration": 927,
    "start_time": "2024-07-05T09:46:46.606Z"
   },
   {
    "duration": 29,
    "start_time": "2024-07-05T09:46:47.535Z"
   },
   {
    "duration": 11,
    "start_time": "2024-07-05T09:46:47.566Z"
   },
   {
    "duration": 14,
    "start_time": "2024-07-05T09:46:47.578Z"
   },
   {
    "duration": 28724,
    "start_time": "2024-07-05T09:46:47.594Z"
   },
   {
    "duration": 27,
    "start_time": "2024-07-05T09:47:16.319Z"
   },
   {
    "duration": 71,
    "start_time": "2024-07-05T09:47:16.355Z"
   },
   {
    "duration": 133,
    "start_time": "2024-07-05T09:47:28.021Z"
   },
   {
    "duration": 126,
    "start_time": "2024-07-05T09:47:37.700Z"
   },
   {
    "duration": 136,
    "start_time": "2024-07-05T09:47:50.158Z"
   },
   {
    "duration": 5062,
    "start_time": "2024-07-05T10:04:30.395Z"
   },
   {
    "duration": 11861,
    "start_time": "2024-07-05T10:04:37.972Z"
   },
   {
    "duration": 10637,
    "start_time": "2024-07-05T10:04:51.916Z"
   },
   {
    "duration": 18,
    "start_time": "2024-07-05T10:05:05.258Z"
   },
   {
    "duration": 11,
    "start_time": "2024-07-05T10:05:28.232Z"
   },
   {
    "duration": 8050,
    "start_time": "2024-07-05T10:05:41.819Z"
   },
   {
    "duration": 25,
    "start_time": "2024-07-05T10:05:52.701Z"
   },
   {
    "duration": 11,
    "start_time": "2024-07-05T10:07:29.866Z"
   },
   {
    "duration": 20,
    "start_time": "2024-07-05T10:07:41.932Z"
   },
   {
    "duration": 18,
    "start_time": "2024-07-05T10:07:59.611Z"
   },
   {
    "duration": 2572,
    "start_time": "2024-07-05T10:12:54.950Z"
   },
   {
    "duration": 1638,
    "start_time": "2024-07-05T10:12:57.525Z"
   },
   {
    "duration": 939,
    "start_time": "2024-07-05T10:12:59.165Z"
   },
   {
    "duration": 48,
    "start_time": "2024-07-05T10:13:00.106Z"
   },
   {
    "duration": 70,
    "start_time": "2024-07-05T10:13:00.157Z"
   },
   {
    "duration": 151,
    "start_time": "2024-07-05T10:13:00.229Z"
   },
   {
    "duration": 29268,
    "start_time": "2024-07-05T10:13:00.382Z"
   },
   {
    "duration": 29,
    "start_time": "2024-07-05T10:13:29.651Z"
   },
   {
    "duration": 138,
    "start_time": "2024-07-05T10:13:29.682Z"
   },
   {
    "duration": 133,
    "start_time": "2024-07-05T10:13:29.822Z"
   },
   {
    "duration": 5160,
    "start_time": "2024-07-05T10:13:29.957Z"
   },
   {
    "duration": 3846,
    "start_time": "2024-07-05T10:13:35.119Z"
   },
   {
    "duration": 3222,
    "start_time": "2024-07-05T10:13:38.966Z"
   },
   {
    "duration": 155,
    "start_time": "2024-07-05T10:13:42.191Z"
   },
   {
    "duration": 0,
    "start_time": "2024-07-05T10:13:42.348Z"
   },
   {
    "duration": 0,
    "start_time": "2024-07-05T10:13:42.349Z"
   },
   {
    "duration": 16,
    "start_time": "2024-07-05T10:13:58.972Z"
   },
   {
    "duration": 5,
    "start_time": "2024-07-05T10:14:46.202Z"
   },
   {
    "duration": 1004,
    "start_time": "2024-07-05T10:15:04.159Z"
   },
   {
    "duration": 21,
    "start_time": "2024-07-05T10:15:06.254Z"
   },
   {
    "duration": 2604,
    "start_time": "2024-07-05T10:15:16.620Z"
   },
   {
    "duration": 1661,
    "start_time": "2024-07-05T10:15:19.226Z"
   },
   {
    "duration": 940,
    "start_time": "2024-07-05T10:15:20.889Z"
   },
   {
    "duration": 32,
    "start_time": "2024-07-05T10:15:21.831Z"
   },
   {
    "duration": 10,
    "start_time": "2024-07-05T10:15:21.866Z"
   },
   {
    "duration": 17,
    "start_time": "2024-07-05T10:15:21.877Z"
   },
   {
    "duration": 29673,
    "start_time": "2024-07-05T10:15:21.896Z"
   },
   {
    "duration": 31,
    "start_time": "2024-07-05T10:15:51.571Z"
   },
   {
    "duration": 143,
    "start_time": "2024-07-05T10:15:51.603Z"
   },
   {
    "duration": 137,
    "start_time": "2024-07-05T10:15:51.748Z"
   },
   {
    "duration": 5100,
    "start_time": "2024-07-05T10:15:51.887Z"
   },
   {
    "duration": 3875,
    "start_time": "2024-07-05T10:15:56.989Z"
   },
   {
    "duration": 3238,
    "start_time": "2024-07-05T10:16:00.865Z"
   },
   {
    "duration": 1004,
    "start_time": "2024-07-05T10:16:04.105Z"
   },
   {
    "duration": 147,
    "start_time": "2024-07-05T10:16:05.111Z"
   },
   {
    "duration": 0,
    "start_time": "2024-07-05T10:16:05.259Z"
   },
   {
    "duration": 2573,
    "start_time": "2024-07-05T10:19:09.403Z"
   },
   {
    "duration": 1626,
    "start_time": "2024-07-05T10:19:11.978Z"
   },
   {
    "duration": 911,
    "start_time": "2024-07-05T10:19:13.606Z"
   },
   {
    "duration": 38,
    "start_time": "2024-07-05T10:19:14.518Z"
   },
   {
    "duration": 16,
    "start_time": "2024-07-05T10:19:14.558Z"
   },
   {
    "duration": 15,
    "start_time": "2024-07-05T10:19:14.576Z"
   },
   {
    "duration": 29366,
    "start_time": "2024-07-05T10:19:14.593Z"
   },
   {
    "duration": 36,
    "start_time": "2024-07-05T10:19:43.961Z"
   },
   {
    "duration": 132,
    "start_time": "2024-07-05T10:19:43.998Z"
   },
   {
    "duration": 134,
    "start_time": "2024-07-05T10:19:44.131Z"
   },
   {
    "duration": 5178,
    "start_time": "2024-07-05T10:19:44.267Z"
   },
   {
    "duration": 3769,
    "start_time": "2024-07-05T10:19:49.447Z"
   },
   {
    "duration": 3212,
    "start_time": "2024-07-05T10:19:53.218Z"
   },
   {
    "duration": 987,
    "start_time": "2024-07-05T10:19:56.432Z"
   },
   {
    "duration": 156,
    "start_time": "2024-07-05T10:19:57.420Z"
   },
   {
    "duration": 0,
    "start_time": "2024-07-05T10:19:57.578Z"
   },
   {
    "duration": 6,
    "start_time": "2024-07-05T10:20:27.726Z"
   },
   {
    "duration": 17,
    "start_time": "2024-07-05T10:20:33.321Z"
   },
   {
    "duration": 2573,
    "start_time": "2024-07-05T10:20:44.347Z"
   },
   {
    "duration": 1570,
    "start_time": "2024-07-05T10:20:46.922Z"
   },
   {
    "duration": 913,
    "start_time": "2024-07-05T10:20:48.494Z"
   },
   {
    "duration": 30,
    "start_time": "2024-07-05T10:20:49.409Z"
   },
   {
    "duration": 18,
    "start_time": "2024-07-05T10:20:49.441Z"
   },
   {
    "duration": 14,
    "start_time": "2024-07-05T10:20:49.461Z"
   },
   {
    "duration": 29505,
    "start_time": "2024-07-05T10:20:49.476Z"
   },
   {
    "duration": 28,
    "start_time": "2024-07-05T10:21:18.982Z"
   },
   {
    "duration": 131,
    "start_time": "2024-07-05T10:21:19.012Z"
   },
   {
    "duration": 156,
    "start_time": "2024-07-05T10:21:19.145Z"
   },
   {
    "duration": 5062,
    "start_time": "2024-07-05T10:21:19.303Z"
   },
   {
    "duration": 3737,
    "start_time": "2024-07-05T10:21:24.367Z"
   },
   {
    "duration": 3227,
    "start_time": "2024-07-05T10:21:28.106Z"
   },
   {
    "duration": 982,
    "start_time": "2024-07-05T10:21:31.335Z"
   },
   {
    "duration": 144,
    "start_time": "2024-07-05T10:21:32.319Z"
   },
   {
    "duration": 0,
    "start_time": "2024-07-05T10:21:32.465Z"
   },
   {
    "duration": 7,
    "start_time": "2024-07-05T10:23:37.955Z"
   },
   {
    "duration": 2527,
    "start_time": "2024-07-05T10:24:03.596Z"
   },
   {
    "duration": 1687,
    "start_time": "2024-07-05T10:24:06.125Z"
   },
   {
    "duration": 931,
    "start_time": "2024-07-05T10:24:07.813Z"
   },
   {
    "duration": 30,
    "start_time": "2024-07-05T10:24:08.746Z"
   },
   {
    "duration": 10,
    "start_time": "2024-07-05T10:24:08.778Z"
   },
   {
    "duration": 17,
    "start_time": "2024-07-05T10:24:08.789Z"
   },
   {
    "duration": 29623,
    "start_time": "2024-07-05T10:24:08.807Z"
   },
   {
    "duration": 33,
    "start_time": "2024-07-05T10:24:38.432Z"
   },
   {
    "duration": 132,
    "start_time": "2024-07-05T10:24:38.467Z"
   },
   {
    "duration": 138,
    "start_time": "2024-07-05T10:24:38.601Z"
   },
   {
    "duration": 5044,
    "start_time": "2024-07-05T10:24:38.741Z"
   },
   {
    "duration": 3700,
    "start_time": "2024-07-05T10:24:43.787Z"
   },
   {
    "duration": 3201,
    "start_time": "2024-07-05T10:24:47.489Z"
   },
   {
    "duration": 963,
    "start_time": "2024-07-05T10:24:50.692Z"
   },
   {
    "duration": 48812,
    "start_time": "2024-07-05T10:24:51.657Z"
   },
   {
    "duration": 8,
    "start_time": "2024-07-05T10:25:40.470Z"
   },
   {
    "duration": 2543,
    "start_time": "2024-07-05T10:32:23.993Z"
   },
   {
    "duration": 1708,
    "start_time": "2024-07-05T10:32:26.538Z"
   },
   {
    "duration": 950,
    "start_time": "2024-07-05T10:32:28.248Z"
   },
   {
    "duration": 33,
    "start_time": "2024-07-05T10:32:29.200Z"
   },
   {
    "duration": 24,
    "start_time": "2024-07-05T10:32:29.235Z"
   },
   {
    "duration": 68,
    "start_time": "2024-07-05T10:32:29.260Z"
   },
   {
    "duration": 29200,
    "start_time": "2024-07-05T10:32:29.330Z"
   },
   {
    "duration": 35,
    "start_time": "2024-07-05T10:32:58.532Z"
   },
   {
    "duration": 149,
    "start_time": "2024-07-05T10:32:58.569Z"
   },
   {
    "duration": 132,
    "start_time": "2024-07-05T10:32:58.720Z"
   },
   {
    "duration": 4965,
    "start_time": "2024-07-05T10:32:58.856Z"
   },
   {
    "duration": 3223,
    "start_time": "2024-07-05T10:33:03.823Z"
   },
   {
    "duration": 2412,
    "start_time": "2024-07-05T10:33:07.048Z"
   },
   {
    "duration": 865,
    "start_time": "2024-07-05T10:33:09.462Z"
   },
   {
    "duration": 29866,
    "start_time": "2024-07-05T10:33:10.328Z"
   },
   {
    "duration": 10,
    "start_time": "2024-07-05T10:33:40.196Z"
   },
   {
    "duration": 2522,
    "start_time": "2024-07-05T10:34:46.135Z"
   },
   {
    "duration": 1718,
    "start_time": "2024-07-05T10:34:48.659Z"
   },
   {
    "duration": 911,
    "start_time": "2024-07-05T10:34:50.379Z"
   },
   {
    "duration": 30,
    "start_time": "2024-07-05T10:34:51.292Z"
   },
   {
    "duration": 10,
    "start_time": "2024-07-05T10:34:51.323Z"
   },
   {
    "duration": 30,
    "start_time": "2024-07-05T10:34:51.335Z"
   },
   {
    "duration": 29076,
    "start_time": "2024-07-05T10:34:51.366Z"
   },
   {
    "duration": 35,
    "start_time": "2024-07-05T10:35:20.444Z"
   },
   {
    "duration": 157,
    "start_time": "2024-07-05T10:35:20.481Z"
   },
   {
    "duration": 127,
    "start_time": "2024-07-05T10:35:20.640Z"
   },
   {
    "duration": 4964,
    "start_time": "2024-07-05T10:35:20.769Z"
   },
   {
    "duration": 3680,
    "start_time": "2024-07-05T10:35:25.734Z"
   },
   {
    "duration": 3240,
    "start_time": "2024-07-05T10:35:29.415Z"
   },
   {
    "duration": 969,
    "start_time": "2024-07-05T10:35:32.657Z"
   },
   {
    "duration": 2581,
    "start_time": "2024-07-05T10:55:12.802Z"
   },
   {
    "duration": 1639,
    "start_time": "2024-07-05T10:55:15.385Z"
   },
   {
    "duration": 904,
    "start_time": "2024-07-05T10:55:17.026Z"
   },
   {
    "duration": 29,
    "start_time": "2024-07-05T10:55:17.932Z"
   },
   {
    "duration": 10,
    "start_time": "2024-07-05T10:55:17.962Z"
   },
   {
    "duration": 14,
    "start_time": "2024-07-05T10:55:17.974Z"
   },
   {
    "duration": 29218,
    "start_time": "2024-07-05T10:55:17.990Z"
   },
   {
    "duration": 28,
    "start_time": "2024-07-05T10:55:47.209Z"
   },
   {
    "duration": 144,
    "start_time": "2024-07-05T10:55:47.238Z"
   },
   {
    "duration": 129,
    "start_time": "2024-07-05T10:55:47.384Z"
   },
   {
    "duration": 5131,
    "start_time": "2024-07-05T10:55:47.515Z"
   },
   {
    "duration": 3769,
    "start_time": "2024-07-05T10:55:52.647Z"
   },
   {
    "duration": 3206,
    "start_time": "2024-07-05T10:55:56.418Z"
   },
   {
    "duration": 993,
    "start_time": "2024-07-05T10:55:59.626Z"
   },
   {
    "duration": 48773,
    "start_time": "2024-07-05T10:56:00.622Z"
   },
   {
    "duration": 12,
    "start_time": "2024-07-05T10:56:49.396Z"
   },
   {
    "duration": 2558,
    "start_time": "2024-07-05T10:58:51.661Z"
   },
   {
    "duration": 1566,
    "start_time": "2024-07-05T10:58:54.221Z"
   },
   {
    "duration": 905,
    "start_time": "2024-07-05T10:58:55.788Z"
   },
   {
    "duration": 33,
    "start_time": "2024-07-05T10:58:56.695Z"
   },
   {
    "duration": 10,
    "start_time": "2024-07-05T10:58:56.730Z"
   },
   {
    "duration": 14,
    "start_time": "2024-07-05T10:58:56.756Z"
   },
   {
    "duration": 28739,
    "start_time": "2024-07-05T10:58:56.771Z"
   },
   {
    "duration": 28,
    "start_time": "2024-07-05T10:59:25.512Z"
   },
   {
    "duration": 129,
    "start_time": "2024-07-05T10:59:25.541Z"
   },
   {
    "duration": 128,
    "start_time": "2024-07-05T10:59:25.672Z"
   },
   {
    "duration": 5096,
    "start_time": "2024-07-05T10:59:25.802Z"
   },
   {
    "duration": 191888,
    "start_time": "2024-07-05T10:59:30.900Z"
   },
   {
    "duration": 149395,
    "start_time": "2024-07-05T11:02:42.789Z"
   },
   {
    "duration": 69909,
    "start_time": "2024-07-05T11:05:12.185Z"
   },
   {
    "duration": 257190,
    "start_time": "2024-07-05T11:06:22.095Z"
   },
   {
    "duration": 10,
    "start_time": "2024-07-05T11:10:39.287Z"
   },
   {
    "duration": 3,
    "start_time": "2024-07-05T11:32:42.656Z"
   },
   {
    "duration": 145,
    "start_time": "2024-07-05T11:54:36.795Z"
   },
   {
    "duration": 5,
    "start_time": "2024-07-05T11:54:51.588Z"
   },
   {
    "duration": 5027,
    "start_time": "2024-07-05T11:54:55.514Z"
   },
   {
    "duration": 33,
    "start_time": "2024-07-05T11:57:10.776Z"
   },
   {
    "duration": 2521,
    "start_time": "2024-07-05T13:09:05.721Z"
   },
   {
    "duration": 1703,
    "start_time": "2024-07-05T13:09:08.244Z"
   },
   {
    "duration": 971,
    "start_time": "2024-07-05T13:09:09.949Z"
   },
   {
    "duration": 33,
    "start_time": "2024-07-05T13:09:10.922Z"
   },
   {
    "duration": 13,
    "start_time": "2024-07-05T13:09:10.957Z"
   },
   {
    "duration": 21,
    "start_time": "2024-07-05T13:09:10.972Z"
   },
   {
    "duration": 28551,
    "start_time": "2024-07-05T13:09:10.994Z"
   },
   {
    "duration": 27,
    "start_time": "2024-07-05T13:09:39.547Z"
   },
   {
    "duration": 131,
    "start_time": "2024-07-05T13:09:39.576Z"
   },
   {
    "duration": 126,
    "start_time": "2024-07-05T13:09:39.709Z"
   },
   {
    "duration": 5026,
    "start_time": "2024-07-05T13:09:39.837Z"
   },
   {
    "duration": 194328,
    "start_time": "2024-07-05T13:09:44.864Z"
   },
   {
    "duration": 146285,
    "start_time": "2024-07-05T13:12:59.193Z"
   },
   {
    "duration": 68807,
    "start_time": "2024-07-05T13:15:25.480Z"
   },
   {
    "duration": 252698,
    "start_time": "2024-07-05T13:16:34.289Z"
   },
   {
    "duration": 10,
    "start_time": "2024-07-05T13:20:46.989Z"
   },
   {
    "duration": 4973,
    "start_time": "2024-07-05T13:20:47.001Z"
   },
   {
    "duration": 2583,
    "start_time": "2024-07-05T13:36:33.555Z"
   },
   {
    "duration": 1679,
    "start_time": "2024-07-05T13:36:36.141Z"
   },
   {
    "duration": 962,
    "start_time": "2024-07-05T13:36:37.821Z"
   },
   {
    "duration": 28,
    "start_time": "2024-07-05T13:36:38.785Z"
   },
   {
    "duration": 10,
    "start_time": "2024-07-05T13:36:38.814Z"
   },
   {
    "duration": 19,
    "start_time": "2024-07-05T13:36:38.825Z"
   },
   {
    "duration": 28618,
    "start_time": "2024-07-05T13:36:38.855Z"
   },
   {
    "duration": 28,
    "start_time": "2024-07-05T13:37:07.475Z"
   },
   {
    "duration": 172,
    "start_time": "2024-07-05T13:37:07.505Z"
   },
   {
    "duration": 126,
    "start_time": "2024-07-05T13:37:07.679Z"
   },
   {
    "duration": 5070,
    "start_time": "2024-07-05T13:37:07.807Z"
   },
   {
    "duration": 193007,
    "start_time": "2024-07-05T13:37:12.879Z"
   },
   {
    "duration": 147801,
    "start_time": "2024-07-05T13:40:25.888Z"
   },
   {
    "duration": 69188,
    "start_time": "2024-07-05T13:42:53.691Z"
   },
   {
    "duration": 257708,
    "start_time": "2024-07-05T13:44:02.881Z"
   },
   {
    "duration": 10,
    "start_time": "2024-07-05T13:48:20.591Z"
   },
   {
    "duration": 5104,
    "start_time": "2024-07-05T13:48:20.603Z"
   },
   {
    "duration": 1079570,
    "start_time": "2024-07-05T13:48:25.709Z"
   },
   {
    "duration": 0,
    "start_time": "2024-07-05T14:06:25.281Z"
   },
   {
    "duration": 15,
    "start_time": "2024-07-05T14:06:29.603Z"
   },
   {
    "duration": 5,
    "start_time": "2024-07-05T14:06:38.490Z"
   },
   {
    "duration": 7046801,
    "start_time": "2024-07-05T14:06:42.958Z"
   },
   {
    "duration": 10,
    "start_time": "2024-07-05T16:04:43.738Z"
   },
   {
    "duration": 23543,
    "start_time": "2024-07-05T16:12:00.539Z"
   },
   {
    "duration": 173,
    "start_time": "2024-07-05T16:12:51.283Z"
   },
   {
    "duration": 2476,
    "start_time": "2024-07-05T16:24:06.752Z"
   },
   {
    "duration": 1736,
    "start_time": "2024-07-05T16:24:09.231Z"
   },
   {
    "duration": 880,
    "start_time": "2024-07-05T16:24:10.969Z"
   },
   {
    "duration": 26,
    "start_time": "2024-07-05T16:24:11.851Z"
   },
   {
    "duration": 9,
    "start_time": "2024-07-05T16:24:11.878Z"
   },
   {
    "duration": 12,
    "start_time": "2024-07-05T16:24:11.889Z"
   },
   {
    "duration": 28842,
    "start_time": "2024-07-05T16:24:11.903Z"
   },
   {
    "duration": 34,
    "start_time": "2024-07-05T16:24:40.747Z"
   },
   {
    "duration": 133,
    "start_time": "2024-07-05T16:24:40.783Z"
   },
   {
    "duration": 128,
    "start_time": "2024-07-05T16:24:40.918Z"
   },
   {
    "duration": 4989,
    "start_time": "2024-07-05T16:24:41.048Z"
   },
   {
    "duration": 192755,
    "start_time": "2024-07-05T16:24:46.039Z"
   },
   {
    "duration": 148891,
    "start_time": "2024-07-05T16:27:58.795Z"
   },
   {
    "duration": 71806,
    "start_time": "2024-07-05T16:30:27.687Z"
   },
   {
    "duration": 257190,
    "start_time": "2024-07-05T16:31:39.494Z"
   },
   {
    "duration": 9,
    "start_time": "2024-07-05T16:35:56.686Z"
   },
   {
    "duration": 5128,
    "start_time": "2024-07-05T16:35:56.696Z"
   },
   {
    "duration": 4348338,
    "start_time": "2024-07-05T16:36:01.826Z"
   },
   {
    "duration": 12,
    "start_time": "2024-07-05T17:48:30.166Z"
   },
   {
    "duration": 22709,
    "start_time": "2024-07-05T17:48:30.179Z"
   },
   {
    "duration": 161,
    "start_time": "2024-07-05T17:48:52.889Z"
   },
   {
    "duration": 3323,
    "start_time": "2024-07-06T10:30:21.102Z"
   },
   {
    "duration": 800,
    "start_time": "2024-07-06T10:30:24.427Z"
   },
   {
    "duration": 7562,
    "start_time": "2024-07-06T10:30:25.229Z"
   },
   {
    "duration": 4943,
    "start_time": "2024-07-06T10:30:32.792Z"
   },
   {
    "duration": 3226,
    "start_time": "2024-07-06T10:30:37.738Z"
   },
   {
    "duration": 30,
    "start_time": "2024-07-06T10:30:40.966Z"
   },
   {
    "duration": 13,
    "start_time": "2024-07-06T10:30:40.998Z"
   },
   {
    "duration": 13,
    "start_time": "2024-07-06T10:30:41.012Z"
   },
   {
    "duration": 3,
    "start_time": "2024-07-06T10:30:41.026Z"
   },
   {
    "duration": 2495,
    "start_time": "2024-07-06T10:43:08.088Z"
   },
   {
    "duration": 839,
    "start_time": "2024-07-06T10:43:10.586Z"
   },
   {
    "duration": 2453,
    "start_time": "2024-07-06T10:43:11.427Z"
   },
   {
    "duration": 4376,
    "start_time": "2024-07-06T10:43:13.883Z"
   },
   {
    "duration": 929,
    "start_time": "2024-07-06T10:43:18.261Z"
   },
   {
    "duration": 31,
    "start_time": "2024-07-06T10:43:19.192Z"
   },
   {
    "duration": 11,
    "start_time": "2024-07-06T10:43:19.224Z"
   },
   {
    "duration": 31,
    "start_time": "2024-07-06T10:43:19.236Z"
   },
   {
    "duration": 3,
    "start_time": "2024-07-06T10:43:19.268Z"
   },
   {
    "duration": 945,
    "start_time": "2024-07-06T10:43:19.272Z"
   },
   {
    "duration": 0,
    "start_time": "2024-07-06T10:43:20.219Z"
   },
   {
    "duration": 0,
    "start_time": "2024-07-06T10:43:20.220Z"
   },
   {
    "duration": 0,
    "start_time": "2024-07-06T10:43:20.221Z"
   },
   {
    "duration": 1,
    "start_time": "2024-07-06T10:43:20.221Z"
   },
   {
    "duration": 0,
    "start_time": "2024-07-06T10:43:20.222Z"
   },
   {
    "duration": 0,
    "start_time": "2024-07-06T10:43:20.223Z"
   },
   {
    "duration": 0,
    "start_time": "2024-07-06T10:43:20.224Z"
   },
   {
    "duration": 0,
    "start_time": "2024-07-06T10:43:20.225Z"
   },
   {
    "duration": 0,
    "start_time": "2024-07-06T10:43:20.226Z"
   },
   {
    "duration": 0,
    "start_time": "2024-07-06T10:43:20.227Z"
   },
   {
    "duration": 0,
    "start_time": "2024-07-06T10:43:20.228Z"
   },
   {
    "duration": 0,
    "start_time": "2024-07-06T10:43:20.229Z"
   },
   {
    "duration": 0,
    "start_time": "2024-07-06T10:43:20.229Z"
   },
   {
    "duration": 0,
    "start_time": "2024-07-06T10:43:20.230Z"
   },
   {
    "duration": 0,
    "start_time": "2024-07-06T10:43:20.231Z"
   },
   {
    "duration": 2463,
    "start_time": "2024-07-06T10:43:50.641Z"
   },
   {
    "duration": 801,
    "start_time": "2024-07-06T10:43:53.106Z"
   },
   {
    "duration": 2400,
    "start_time": "2024-07-06T10:43:53.909Z"
   },
   {
    "duration": 4297,
    "start_time": "2024-07-06T10:43:56.311Z"
   },
   {
    "duration": 935,
    "start_time": "2024-07-06T10:44:00.610Z"
   },
   {
    "duration": 30,
    "start_time": "2024-07-06T10:44:01.547Z"
   },
   {
    "duration": 44,
    "start_time": "2024-07-06T10:44:01.579Z"
   },
   {
    "duration": 41,
    "start_time": "2024-07-06T10:44:01.625Z"
   },
   {
    "duration": 33,
    "start_time": "2024-07-06T10:44:01.668Z"
   },
   {
    "duration": 2578,
    "start_time": "2024-07-06T10:46:28.989Z"
   },
   {
    "duration": 826,
    "start_time": "2024-07-06T10:46:31.569Z"
   },
   {
    "duration": 2453,
    "start_time": "2024-07-06T10:46:32.397Z"
   },
   {
    "duration": 4358,
    "start_time": "2024-07-06T10:46:34.852Z"
   },
   {
    "duration": 886,
    "start_time": "2024-07-06T10:46:39.212Z"
   },
   {
    "duration": 36,
    "start_time": "2024-07-06T10:46:40.100Z"
   },
   {
    "duration": 21,
    "start_time": "2024-07-06T10:46:40.137Z"
   },
   {
    "duration": 21,
    "start_time": "2024-07-06T10:46:40.159Z"
   },
   {
    "duration": 9,
    "start_time": "2024-07-06T10:46:40.182Z"
   },
   {
    "duration": 2577,
    "start_time": "2024-07-06T10:55:56.801Z"
   },
   {
    "duration": 841,
    "start_time": "2024-07-06T10:55:59.381Z"
   },
   {
    "duration": 2554,
    "start_time": "2024-07-06T10:56:00.227Z"
   },
   {
    "duration": 5647,
    "start_time": "2024-07-06T10:56:02.784Z"
   },
   {
    "duration": 3212,
    "start_time": "2024-07-06T10:56:08.433Z"
   },
   {
    "duration": 31,
    "start_time": "2024-07-06T10:56:11.647Z"
   },
   {
    "duration": 20,
    "start_time": "2024-07-06T10:56:11.680Z"
   },
   {
    "duration": 30,
    "start_time": "2024-07-06T10:56:11.702Z"
   },
   {
    "duration": 7,
    "start_time": "2024-07-06T10:56:11.733Z"
   },
   {
    "duration": 2502,
    "start_time": "2024-07-06T11:04:55.609Z"
   },
   {
    "duration": 829,
    "start_time": "2024-07-06T11:04:58.113Z"
   },
   {
    "duration": 2589,
    "start_time": "2024-07-06T11:04:58.944Z"
   },
   {
    "duration": 5659,
    "start_time": "2024-07-06T11:05:01.536Z"
   },
   {
    "duration": 3263,
    "start_time": "2024-07-06T11:05:07.196Z"
   },
   {
    "duration": 30,
    "start_time": "2024-07-06T11:05:10.461Z"
   },
   {
    "duration": 27,
    "start_time": "2024-07-06T11:05:10.493Z"
   },
   {
    "duration": 31,
    "start_time": "2024-07-06T11:05:10.522Z"
   },
   {
    "duration": 18,
    "start_time": "2024-07-06T11:05:10.555Z"
   },
   {
    "duration": 2486,
    "start_time": "2024-07-06T11:17:18.043Z"
   },
   {
    "duration": 788,
    "start_time": "2024-07-06T11:17:20.531Z"
   },
   {
    "duration": 2414,
    "start_time": "2024-07-06T11:17:21.321Z"
   },
   {
    "duration": 5721,
    "start_time": "2024-07-06T11:17:23.737Z"
   },
   {
    "duration": 3273,
    "start_time": "2024-07-06T11:17:29.461Z"
   },
   {
    "duration": 34,
    "start_time": "2024-07-06T11:17:32.735Z"
   },
   {
    "duration": 11,
    "start_time": "2024-07-06T11:17:32.771Z"
   },
   {
    "duration": 13,
    "start_time": "2024-07-06T11:17:32.783Z"
   },
   {
    "duration": 4,
    "start_time": "2024-07-06T11:17:32.797Z"
   },
   {
    "duration": 1098414,
    "start_time": "2024-07-06T11:17:32.802Z"
   },
   {
    "duration": 36,
    "start_time": "2024-07-06T11:35:51.218Z"
   },
   {
    "duration": 30514,
    "start_time": "2024-07-06T11:35:51.256Z"
   },
   {
    "duration": 0,
    "start_time": "2024-07-06T11:36:21.773Z"
   },
   {
    "duration": 0,
    "start_time": "2024-07-06T11:36:21.774Z"
   },
   {
    "duration": 0,
    "start_time": "2024-07-06T11:36:21.776Z"
   },
   {
    "duration": 0,
    "start_time": "2024-07-06T11:36:21.778Z"
   },
   {
    "duration": 0,
    "start_time": "2024-07-06T11:36:21.780Z"
   },
   {
    "duration": 0,
    "start_time": "2024-07-06T11:36:21.781Z"
   },
   {
    "duration": 0,
    "start_time": "2024-07-06T11:36:21.783Z"
   },
   {
    "duration": 0,
    "start_time": "2024-07-06T11:36:21.785Z"
   },
   {
    "duration": 0,
    "start_time": "2024-07-06T11:36:21.786Z"
   },
   {
    "duration": 0,
    "start_time": "2024-07-06T11:36:21.787Z"
   },
   {
    "duration": 0,
    "start_time": "2024-07-06T11:36:21.789Z"
   },
   {
    "duration": 0,
    "start_time": "2024-07-06T11:36:21.790Z"
   },
   {
    "duration": 0,
    "start_time": "2024-07-06T11:36:21.791Z"
   },
   {
    "duration": 29669,
    "start_time": "2024-07-06T11:38:31.475Z"
   },
   {
    "duration": 29508,
    "start_time": "2024-07-06T11:40:18.963Z"
   },
   {
    "duration": 7669,
    "start_time": "2024-07-06T11:42:53.120Z"
   },
   {
    "duration": 72,
    "start_time": "2024-07-06T11:43:04.223Z"
   },
   {
    "duration": 3514,
    "start_time": "2024-07-06T11:43:22.876Z"
   },
   {
    "duration": 30,
    "start_time": "2024-07-06T11:43:32.934Z"
   },
   {
    "duration": 634,
    "start_time": "2024-07-06T11:43:50.896Z"
   },
   {
    "duration": 2498,
    "start_time": "2024-07-06T11:47:27.305Z"
   },
   {
    "duration": 836,
    "start_time": "2024-07-06T11:47:29.805Z"
   },
   {
    "duration": 2448,
    "start_time": "2024-07-06T11:47:30.643Z"
   },
   {
    "duration": 2407,
    "start_time": "2024-07-06T11:47:33.094Z"
   },
   {
    "duration": 2381,
    "start_time": "2024-07-06T11:47:35.504Z"
   },
   {
    "duration": 5626,
    "start_time": "2024-07-06T11:47:37.887Z"
   },
   {
    "duration": 3239,
    "start_time": "2024-07-06T11:47:43.515Z"
   },
   {
    "duration": 32,
    "start_time": "2024-07-06T11:47:46.756Z"
   },
   {
    "duration": 10,
    "start_time": "2024-07-06T11:47:46.790Z"
   },
   {
    "duration": 14,
    "start_time": "2024-07-06T11:47:46.801Z"
   },
   {
    "duration": 97,
    "start_time": "2024-07-06T11:47:46.816Z"
   },
   {
    "duration": 1080767,
    "start_time": "2024-07-06T11:47:46.915Z"
   },
   {
    "duration": 33,
    "start_time": "2024-07-06T12:05:47.684Z"
   },
   {
    "duration": 185,
    "start_time": "2024-07-06T12:05:47.720Z"
   },
   {
    "duration": 477,
    "start_time": "2024-07-06T12:05:47.906Z"
   },
   {
    "duration": 4390,
    "start_time": "2024-07-06T12:05:48.384Z"
   },
   {
    "duration": 171213,
    "start_time": "2024-07-06T12:05:52.776Z"
   },
   {
    "duration": 111500,
    "start_time": "2024-07-06T12:08:43.991Z"
   },
   {
    "duration": 72472,
    "start_time": "2024-07-06T12:10:35.492Z"
   },
   {
    "duration": 291225,
    "start_time": "2024-07-06T12:11:47.966Z"
   },
   {
    "duration": 12,
    "start_time": "2024-07-06T12:16:39.192Z"
   },
   {
    "duration": 4446,
    "start_time": "2024-07-06T12:16:39.206Z"
   },
   {
    "duration": 2473340,
    "start_time": "2024-07-06T12:16:43.653Z"
   },
   {
    "duration": 10,
    "start_time": "2024-07-06T12:57:56.994Z"
   },
   {
    "duration": 28975,
    "start_time": "2024-07-06T12:57:57.006Z"
   },
   {
    "duration": 174,
    "start_time": "2024-07-06T12:58:25.983Z"
   },
   {
    "duration": 126121,
    "start_time": "2024-07-06T13:07:20.274Z"
   },
   {
    "duration": 163,
    "start_time": "2024-07-06T13:09:55.359Z"
   }
  ],
  "kernelspec": {
   "display_name": "Python 3 (ipykernel)",
   "language": "python",
   "name": "python3"
  },
  "language_info": {
   "codemirror_mode": {
    "name": "ipython",
    "version": 3
   },
   "file_extension": ".py",
   "mimetype": "text/x-python",
   "name": "python",
   "nbconvert_exporter": "python",
   "pygments_lexer": "ipython3",
   "version": "3.10.9"
  },
  "toc": {
   "base_numbering": 1,
   "nav_menu": {},
   "number_sections": true,
   "sideBar": true,
   "skip_h1_title": true,
   "title_cell": "Содержание",
   "title_sidebar": "Contents",
   "toc_cell": true,
   "toc_position": {
    "height": "calc(100% - 180px)",
    "left": "10px",
    "top": "150px",
    "width": "302.391px"
   },
   "toc_section_display": true,
   "toc_window_display": false
  }
 },
 "nbformat": 4,
 "nbformat_minor": 2
}
